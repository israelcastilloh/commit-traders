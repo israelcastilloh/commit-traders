{
 "cells": [
  {
   "cell_type": "code",
   "execution_count": 1,
   "metadata": {},
   "outputs": [
    {
     "data": {
      "text/html": [
       "        <script type=\"text/javascript\">\n",
       "        window.PlotlyConfig = {MathJaxConfig: 'local'};\n",
       "        if (window.MathJax) {MathJax.Hub.Config({SVG: {font: \"STIX-Web\"}});}\n",
       "        if (typeof require !== 'undefined') {\n",
       "        require.undef(\"plotly\");\n",
       "        requirejs.config({\n",
       "            paths: {\n",
       "                'plotly': ['https://cdn.plot.ly/plotly-latest.min']\n",
       "            }\n",
       "        });\n",
       "        require(['plotly'], function(Plotly) {\n",
       "            window._Plotly = Plotly;\n",
       "        });\n",
       "        }\n",
       "        </script>\n",
       "        "
      ]
     },
     "metadata": {},
     "output_type": "display_data"
    }
   ],
   "source": [
    "from commit_traders_financial import*"
   ]
  },
  {
   "cell_type": "markdown",
   "metadata": {
    "slideshow": {
     "slide_type": "slide"
    }
   },
   "source": [
    "<img src=\"https://www.cftc.gov/sites/all/themes/cftc/images/Final-CFTC-Logo-Long.png\">"
   ]
  },
  {
   "cell_type": "markdown",
   "metadata": {
    "slideshow": {
     "slide_type": "slide"
    }
   },
   "source": [
    "# <div align=\"center\"> <u> COMMODITIES FUTURES TRADING COMMISION </u>\n",
    "## <div align=\"center\"> - TRADERS EN EL SECTOR FINANCIERO -\n",
    "### <div align=\"center\"> Reporte \"Traders in Financial Futures ; Futures Only Reports:\""
   ]
  },
  {
   "cell_type": "markdown",
   "metadata": {},
   "source": [
    "### ¿Qué es? \n",
    "\n",
    "El **CoT Report** es:\n",
    "* U.S. Department of Agriculture’s Grain Futures Administration\n",
    "* Semanal\n",
    "* Una imagen de especulación y hedging en mercado de futuros\n",
    "* Cada Martes da el \"OPEN INTEREST\" de futuros y opciones\n",
    "* Promotor transparencia\n",
    "\n",
    "<img src=\"https://image.cnbcfm.com/api/v1/image/105349180-1532444001346rts1vkyd.jpg?v=1552421175&w=1600&h=900\" style = \"height:250px\" align=\"right\">"
   ]
  },
  {
   "cell_type": "markdown",
   "metadata": {},
   "source": [
    "### CFTC\n",
    "\n",
    "* Texto"
   ]
  },
  {
   "cell_type": "markdown",
   "metadata": {},
   "source": [
    "### COMO SE VE UN CoT REPORT?\n",
    "\n",
    "* Texto\n",
    "\n",
    "\n",
    "![alt text](./assets/report_mxn.png \"Title\")"
   ]
  },
  {
   "cell_type": "markdown",
   "metadata": {},
   "source": [
    "### **El Traders in Financial Futures (TFF) incluye contatos financieros como:**\n",
    "* DIVISAS\n",
    "* US TREASURY\n",
    "* EURODOLARES\n",
    "* ACCIONES \n",
    "* VIX (Índice de Volatilidad)\n",
    "* Índice Bloomberg de Commodities (materias primas)\n",
    "\n",
    "### **Y clasifica las posiciones por:**\n",
    "\n",
    "1. Intermediario\n",
    "2. Gerentes Institucionales de Activos\n",
    "3. Fondos Apalancados\n",
    "4. Otros Reportables\n",
    "\n",
    "### **El TFF divide a los participantes en \"vender\" y \"comprar\".** <br>"
   ]
  },
  {
   "cell_type": "markdown",
   "metadata": {},
   "source": [
    "### 1) Intermediario (Dealer)\n",
    "\n",
    "\n",
    "Estos participantes son el \"lado de venta\" del mercado. \n",
    "\n",
    "Aunque ellos predominantemente no venden futuros, ellos diseñan y venden activos financieros a los clientes.\n",
    "\n",
    "Tiene libros igualados y compensan su riesgo en los mercados y clientes. Los contratos son parte de la fijación de precios y el equilibrio del riesgo de sus actividades. \n",
    "\n",
    "Estos incluyen grandes bancos (estadounidenses y no estadounidenses) y operadores de valores, swaps\n",
    "y otros derivados.\n",
    "\n",
    "El resto del mercado comprende el \"lado de la compra\", que se divide en tres categorías separadas:\n",
    "\n",
    "\n",
    "<img src=\"https://encrypted-tbn0.gstatic.com/images?q=tbn%3AANd9GcRpBgSSSDZ3ZKbKAmUwSbhzaO9ZCvuFx9M0QQ&usqp=CAU\" style = \"height:180px\" align=\"left\">\n",
    "\n",
    "\n",
    "\n"
   ]
  },
  {
   "cell_type": "markdown",
   "metadata": {},
   "source": [
    "### 2) Gestores Institucionales de Activos (Asset Manager/Institutional)\n",
    "\n",
    "* Inversores institucionales\n",
    "\n",
    "* Fondos de pensiones\n",
    "\n",
    "* Compañías de seguros\n",
    "\n",
    "* Fondos mutuos \n",
    "\n",
    "* Administradores de cartera / inversiones\n",
    "\n",
    "<img src=\"https://media-exp1.licdn.com/dms/image/C4E0BAQFBVOZ626AFWQ/company-logo_200_200/0?e=2159024400&v=beta&t=4waP0UJCoAMBtgLFwwFMlIk_bj_ovJAc06m65B_65co\" style = \"height:200px\" align=\"right\">\n"
   ]
  },
  {
   "cell_type": "markdown",
   "metadata": {},
   "source": [
    "### 3) Fondos Apalancados (Leveraged Funds)\n",
    "\n",
    "Estos suelen ser fondos de cobertura y administradores de dinero.\n",
    "\n",
    "* Las estrategias pueden implicar tomar directamente posiciones o arbitraje dentro y entre mercados.\n",
    "* Operaciones de futuros propietarios y en nombre de clientes especulativos. Gestión.\n",
    "\n",
    "\n",
    "<img src=\"https://imagenes.lainformacion.com/files/image_656_370/uploads/imagenes/2020/03/13/5e6bfb5cd0a49.jpeg\" style = \"height:200px\" align=\"right\">\n"
   ]
  },
  {
   "cell_type": "markdown",
   "metadata": {},
   "source": [
    "### 4) Otros Reportables (Other Reportable) / Comerciales\n",
    "\n",
    "Principalmente los que cubren el riesgo comercial, relacionado con el tipo de cambio, acciones o tasas de interés. \n",
    "\n",
    "* Tesorerías corporativas\n",
    "* Bancos centrales\n",
    "* Bancos más pequeños \n",
    "* Originadores de hipotecas, crédito\n",
    "* Sindicatos\n",
    "\n",
    "\n",
    "* **Nota: Forma 40. (2006).**\n",
    "\n",
    "\n",
    "<img src=\"\n",
    "https://marcommnews.com/wp-content/uploads/2019/10/CCUA-701x394.jpg\" style = \"height:200px\" align=\"right\">\n",
    "\n",
    "\n"
   ]
  },
  {
   "cell_type": "code",
   "execution_count": 4,
   "metadata": {},
   "outputs": [
    {
     "data": {
      "text/html": [
       "<div>\n",
       "<style scoped>\n",
       "    .dataframe tbody tr th:only-of-type {\n",
       "        vertical-align: middle;\n",
       "    }\n",
       "\n",
       "    .dataframe tbody tr th {\n",
       "        vertical-align: top;\n",
       "    }\n",
       "\n",
       "    .dataframe thead th {\n",
       "        text-align: right;\n",
       "    }\n",
       "</style>\n",
       "<table border=\"1\" class=\"dataframe\">\n",
       "  <thead>\n",
       "    <tr style=\"text-align: right;\">\n",
       "      <th></th>\n",
       "      <th>Market_and_Exchange_Names</th>\n",
       "      <th>As_of_Date_In_Form_YYMMDD</th>\n",
       "      <th>Report_Date_as_MM_DD_YYYY</th>\n",
       "      <th>CFTC_Contract_Market_Code</th>\n",
       "      <th>CFTC_Market_Code</th>\n",
       "      <th>CFTC_Region_Code</th>\n",
       "      <th>CFTC_Commodity_Code</th>\n",
       "      <th>Open_Interest_All</th>\n",
       "      <th>Dealer_Positions_Long_All</th>\n",
       "      <th>Dealer_Positions_Short_All</th>\n",
       "      <th>...</th>\n",
       "      <th>Conc_Gross_LE_4_TDR_Short_All</th>\n",
       "      <th>Conc_Gross_LE_8_TDR_Long_All</th>\n",
       "      <th>Conc_Gross_LE_8_TDR_Short_All</th>\n",
       "      <th>Conc_Net_LE_4_TDR_Long_All</th>\n",
       "      <th>Conc_Net_LE_4_TDR_Short_All</th>\n",
       "      <th>Conc_Net_LE_8_TDR_Long_All</th>\n",
       "      <th>Conc_Net_LE_8_TDR_Short_All</th>\n",
       "      <th>Contract_Units</th>\n",
       "      <th>CFTC_SubGroup_Code</th>\n",
       "      <th>FutOnly_or_Combined</th>\n",
       "    </tr>\n",
       "  </thead>\n",
       "  <tbody>\n",
       "    <tr>\n",
       "      <th>0</th>\n",
       "      <td>CANADIAN DOLLAR - CHICAGO MERCANTILE EXCHANGE</td>\n",
       "      <td>200929</td>\n",
       "      <td>2020-09-29</td>\n",
       "      <td>090741</td>\n",
       "      <td>CME</td>\n",
       "      <td>0</td>\n",
       "      <td>90</td>\n",
       "      <td>113862</td>\n",
       "      <td>2447</td>\n",
       "      <td>29017</td>\n",
       "      <td>...</td>\n",
       "      <td>31.5</td>\n",
       "      <td>38.5</td>\n",
       "      <td>43.4</td>\n",
       "      <td>27.4</td>\n",
       "      <td>31.2</td>\n",
       "      <td>36.0</td>\n",
       "      <td>43.1</td>\n",
       "      <td>(CONTRACTS OF CAD 100,000)</td>\n",
       "      <td>F10</td>\n",
       "      <td>FutOnly</td>\n",
       "    </tr>\n",
       "    <tr>\n",
       "      <th>1</th>\n",
       "      <td>CANADIAN DOLLAR - CHICAGO MERCANTILE EXCHANGE</td>\n",
       "      <td>200922</td>\n",
       "      <td>2020-09-22</td>\n",
       "      <td>090741</td>\n",
       "      <td>CME</td>\n",
       "      <td>0</td>\n",
       "      <td>90</td>\n",
       "      <td>117564</td>\n",
       "      <td>3004</td>\n",
       "      <td>34404</td>\n",
       "      <td>...</td>\n",
       "      <td>37.3</td>\n",
       "      <td>38.5</td>\n",
       "      <td>50.2</td>\n",
       "      <td>26.7</td>\n",
       "      <td>37.1</td>\n",
       "      <td>36.1</td>\n",
       "      <td>49.9</td>\n",
       "      <td>(CONTRACTS OF CAD 100,000)</td>\n",
       "      <td>F10</td>\n",
       "      <td>FutOnly</td>\n",
       "    </tr>\n",
       "    <tr>\n",
       "      <th>2</th>\n",
       "      <td>CANADIAN DOLLAR - CHICAGO MERCANTILE EXCHANGE</td>\n",
       "      <td>200915</td>\n",
       "      <td>2020-09-15</td>\n",
       "      <td>090741</td>\n",
       "      <td>CME</td>\n",
       "      <td>0</td>\n",
       "      <td>90</td>\n",
       "      <td>147273</td>\n",
       "      <td>2522</td>\n",
       "      <td>51454</td>\n",
       "      <td>...</td>\n",
       "      <td>44.6</td>\n",
       "      <td>33.4</td>\n",
       "      <td>57.3</td>\n",
       "      <td>20.4</td>\n",
       "      <td>41.4</td>\n",
       "      <td>28.3</td>\n",
       "      <td>53.6</td>\n",
       "      <td>(CONTRACTS OF CAD 100,000)</td>\n",
       "      <td>F10</td>\n",
       "      <td>FutOnly</td>\n",
       "    </tr>\n",
       "    <tr>\n",
       "      <th>3</th>\n",
       "      <td>CANADIAN DOLLAR - CHICAGO MERCANTILE EXCHANGE</td>\n",
       "      <td>200908</td>\n",
       "      <td>2020-09-08</td>\n",
       "      <td>090741</td>\n",
       "      <td>CME</td>\n",
       "      <td>0</td>\n",
       "      <td>90</td>\n",
       "      <td>137618</td>\n",
       "      <td>13438</td>\n",
       "      <td>43468</td>\n",
       "      <td>...</td>\n",
       "      <td>41.1</td>\n",
       "      <td>40.7</td>\n",
       "      <td>53.8</td>\n",
       "      <td>27.8</td>\n",
       "      <td>41.0</td>\n",
       "      <td>37.6</td>\n",
       "      <td>53.3</td>\n",
       "      <td>(CONTRACTS OF CAD 100,000)</td>\n",
       "      <td>F10</td>\n",
       "      <td>FutOnly</td>\n",
       "    </tr>\n",
       "  </tbody>\n",
       "</table>\n",
       "<p>4 rows × 84 columns</p>\n",
       "</div>"
      ],
      "text/plain": [
       "                       Market_and_Exchange_Names  As_of_Date_In_Form_YYMMDD  \\\n",
       "0  CANADIAN DOLLAR - CHICAGO MERCANTILE EXCHANGE                     200929   \n",
       "1  CANADIAN DOLLAR - CHICAGO MERCANTILE EXCHANGE                     200922   \n",
       "2  CANADIAN DOLLAR - CHICAGO MERCANTILE EXCHANGE                     200915   \n",
       "3  CANADIAN DOLLAR - CHICAGO MERCANTILE EXCHANGE                     200908   \n",
       "\n",
       "  Report_Date_as_MM_DD_YYYY CFTC_Contract_Market_Code CFTC_Market_Code  \\\n",
       "0                2020-09-29                    090741             CME    \n",
       "1                2020-09-22                    090741             CME    \n",
       "2                2020-09-15                    090741             CME    \n",
       "3                2020-09-08                    090741             CME    \n",
       "\n",
       "   CFTC_Region_Code  CFTC_Commodity_Code  Open_Interest_All  \\\n",
       "0                 0                   90             113862   \n",
       "1                 0                   90             117564   \n",
       "2                 0                   90             147273   \n",
       "3                 0                   90             137618   \n",
       "\n",
       "   Dealer_Positions_Long_All  Dealer_Positions_Short_All  ...  \\\n",
       "0                       2447                       29017  ...   \n",
       "1                       3004                       34404  ...   \n",
       "2                       2522                       51454  ...   \n",
       "3                      13438                       43468  ...   \n",
       "\n",
       "   Conc_Gross_LE_4_TDR_Short_All  Conc_Gross_LE_8_TDR_Long_All  \\\n",
       "0                           31.5                          38.5   \n",
       "1                           37.3                          38.5   \n",
       "2                           44.6                          33.4   \n",
       "3                           41.1                          40.7   \n",
       "\n",
       "   Conc_Gross_LE_8_TDR_Short_All  Conc_Net_LE_4_TDR_Long_All  \\\n",
       "0                           43.4                        27.4   \n",
       "1                           50.2                        26.7   \n",
       "2                           57.3                        20.4   \n",
       "3                           53.8                        27.8   \n",
       "\n",
       "   Conc_Net_LE_4_TDR_Short_All  Conc_Net_LE_8_TDR_Long_All  \\\n",
       "0                         31.2                        36.0   \n",
       "1                         37.1                        36.1   \n",
       "2                         41.4                        28.3   \n",
       "3                         41.0                        37.6   \n",
       "\n",
       "   Conc_Net_LE_8_TDR_Short_All              Contract_Units  \\\n",
       "0                         43.1  (CONTRACTS OF CAD 100,000)   \n",
       "1                         49.9  (CONTRACTS OF CAD 100,000)   \n",
       "2                         53.6  (CONTRACTS OF CAD 100,000)   \n",
       "3                         53.3  (CONTRACTS OF CAD 100,000)   \n",
       "\n",
       "   CFTC_SubGroup_Code  FutOnly_or_Combined  \n",
       "0                 F10              FutOnly  \n",
       "1                 F10              FutOnly  \n",
       "2                 F10              FutOnly  \n",
       "3                 F10              FutOnly  \n",
       "\n",
       "[4 rows x 84 columns]"
      ]
     },
     "execution_count": 4,
     "metadata": {},
     "output_type": "execute_result"
    }
   ],
   "source": [
    "FinancialReports(2020,2020,2020).head(4)"
   ]
  },
  {
   "cell_type": "code",
   "execution_count": 5,
   "metadata": {
    "scrolled": true
   },
   "outputs": [
    {
     "name": "stdout",
     "output_type": "stream",
     "text": [
      "# Data Points Reported in this Fin Fut CoT:  84\n"
     ]
    },
    {
     "data": {
      "text/plain": [
       "array(['Market_and_Exchange_Names', 'As_of_Date_In_Form_YYMMDD',\n",
       "       'Report_Date_as_MM_DD_YYYY', 'CFTC_Contract_Market_Code',\n",
       "       'CFTC_Market_Code', 'CFTC_Region_Code', 'CFTC_Commodity_Code',\n",
       "       'Open_Interest_All', 'Dealer_Positions_Long_All',\n",
       "       'Dealer_Positions_Short_All', 'Dealer_Positions_Spread_All',\n",
       "       'Asset_Mgr_Positions_Long_All', 'Asset_Mgr_Positions_Short_All',\n",
       "       'Asset_Mgr_Positions_Spread_All', 'Lev_Money_Positions_Long_All',\n",
       "       'Lev_Money_Positions_Short_All', 'Lev_Money_Positions_Spread_All',\n",
       "       'Other_Rept_Positions_Long_All', 'Other_Rept_Positions_Short_All',\n",
       "       'Other_Rept_Positions_Spread_All', 'Tot_Rept_Positions_Long_All',\n",
       "       'Tot_Rept_Positions_Short_All', 'NonRept_Positions_Long_All',\n",
       "       'NonRept_Positions_Short_All', 'Change_in_Open_Interest_All',\n",
       "       'Change_in_Dealer_Long_All', 'Change_in_Dealer_Short_All',\n",
       "       'Change_in_Dealer_Spread_All', 'Change_in_Asset_Mgr_Long_All',\n",
       "       'Change_in_Asset_Mgr_Short_All', 'Change_in_Asset_Mgr_Spread_All',\n",
       "       'Change_in_Lev_Money_Long_All', 'Change_in_Lev_Money_Short_All',\n",
       "       'Change_in_Lev_Money_Spread_All', 'Change_in_Other_Rept_Long_All',\n",
       "       'Change_in_Other_Rept_Short_All',\n",
       "       'Change_in_Other_Rept_Spread_All', 'Change_in_Tot_Rept_Long_All',\n",
       "       'Change_in_Tot_Rept_Short_All', 'Change_in_NonRept_Long_All',\n",
       "       'Change_in_NonRept_Short_All', 'Pct_of_Open_Interest_All',\n",
       "       'Pct_of_OI_Dealer_Long_All', 'Pct_of_OI_Dealer_Short_All',\n",
       "       'Pct_of_OI_Dealer_Spread_All', 'Pct_of_OI_Asset_Mgr_Long_All',\n",
       "       'Pct_of_OI_Asset_Mgr_Short_All', 'Pct_of_OI_Asset_Mgr_Spread_All',\n",
       "       'Pct_of_OI_Lev_Money_Long_All', 'Pct_of_OI_Lev_Money_Short_All',\n",
       "       'Pct_of_OI_Lev_Money_Spread_All', 'Pct_of_OI_Other_Rept_Long_All',\n",
       "       'Pct_of_OI_Other_Rept_Short_All',\n",
       "       'Pct_of_OI_Other_Rept_Spread_All', 'Pct_of_OI_Tot_Rept_Long_All',\n",
       "       'Pct_of_OI_Tot_Rept_Short_All', 'Pct_of_OI_NonRept_Long_All',\n",
       "       'Pct_of_OI_NonRept_Short_All', 'Traders_Tot_All',\n",
       "       'Traders_Dealer_Long_All', 'Traders_Dealer_Short_All',\n",
       "       'Traders_Dealer_Spread_All', 'Traders_Asset_Mgr_Long_All',\n",
       "       'Traders_Asset_Mgr_Short_All', 'Traders_Asset_Mgr_Spread_All',\n",
       "       'Traders_Lev_Money_Long_All', 'Traders_Lev_Money_Short_All',\n",
       "       'Traders_Lev_Money_Spread_All', 'Traders_Other_Rept_Long_All',\n",
       "       'Traders_Other_Rept_Short_All', 'Traders_Other_Rept_Spread_All',\n",
       "       'Traders_Tot_Rept_Long_All', 'Traders_Tot_Rept_Short_All',\n",
       "       'Conc_Gross_LE_4_TDR_Long_All', 'Conc_Gross_LE_4_TDR_Short_All',\n",
       "       'Conc_Gross_LE_8_TDR_Long_All', 'Conc_Gross_LE_8_TDR_Short_All',\n",
       "       'Conc_Net_LE_4_TDR_Long_All', 'Conc_Net_LE_4_TDR_Short_All',\n",
       "       'Conc_Net_LE_8_TDR_Long_All', 'Conc_Net_LE_8_TDR_Short_All',\n",
       "       'Contract_Units', 'CFTC_SubGroup_Code', 'FutOnly_or_Combined'],\n",
       "      dtype=object)"
      ]
     },
     "execution_count": 5,
     "metadata": {},
     "output_type": "execute_result"
    }
   ],
   "source": [
    "## REVISAMOS QUE DATOS NOS ARROJA EL REPORTE X COLUMNA\n",
    "ReportPoints(2020)"
   ]
  },
  {
   "cell_type": "code",
   "execution_count": 6,
   "metadata": {
    "scrolled": true
   },
   "outputs": [
    {
     "name": "stdout",
     "output_type": "stream",
     "text": [
      "# Assets Reported in this Fin Fut CoT:  57\n"
     ]
    },
    {
     "data": {
      "text/plain": [
       "array(['CANADIAN DOLLAR - CHICAGO MERCANTILE EXCHANGE',\n",
       "       'SWISS FRANC - CHICAGO MERCANTILE EXCHANGE',\n",
       "       'BRITISH POUND STERLING - CHICAGO MERCANTILE EXCHANGE',\n",
       "       'JAPANESE YEN - CHICAGO MERCANTILE EXCHANGE',\n",
       "       'EURO FX - CHICAGO MERCANTILE EXCHANGE',\n",
       "       'AUSTRALIAN DOLLAR - CHICAGO MERCANTILE EXCHANGE',\n",
       "       'EURO FX/BRITISH POUND XRATE - CHICAGO MERCANTILE EXCHANGE',\n",
       "       'EURO FX/JAPANESE YEN XRATE - CHICAGO MERCANTILE EXCHANGE',\n",
       "       'RUSSIAN RUBLE - CHICAGO MERCANTILE EXCHANGE',\n",
       "       'MEXICAN PESO - CHICAGO MERCANTILE EXCHANGE',\n",
       "       'BRAZILIAN REAL - CHICAGO MERCANTILE EXCHANGE',\n",
       "       'NEW ZEALAND DOLLAR - CHICAGO MERCANTILE EXCHANGE',\n",
       "       'SOUTH AFRICAN RAND - CHICAGO MERCANTILE EXCHANGE',\n",
       "       'DJIA Consolidated - CHICAGO BOARD OF TRADE',\n",
       "       'DOW JONES INDUSTRIAL AVG- x $5 - CHICAGO BOARD OF TRADE',\n",
       "       'DOW JONES U.S. REAL ESTATE IDX - CHICAGO BOARD OF TRADE',\n",
       "       'S&P 500 Consolidated - CHICAGO MERCANTILE EXCHANGE',\n",
       "       'S&P 500 STOCK INDEX - CHICAGO MERCANTILE EXCHANGE',\n",
       "       'E-MINI S&P CONSU STAPLES INDEX - CHICAGO MERCANTILE EXCHANGE',\n",
       "       'E-MINI S&P ENERGY INDEX - CHICAGO MERCANTILE EXCHANGE',\n",
       "       'E-MINI S&P 500 STOCK INDEX - CHICAGO MERCANTILE EXCHANGE',\n",
       "       'E-MINI S&P FINANCIAL INDEX - CHICAGO MERCANTILE EXCHANGE',\n",
       "       'E-MINI S&P HEALTH CARE INDEX - CHICAGO MERCANTILE EXCHANGE',\n",
       "       'E-MINI S&P INDUSTRIAL INDEX - CHICAGO MERCANTILE EXCHANGE',\n",
       "       'E-MINI S&P TECHNOLOGY INDEX - CHICAGO MERCANTILE EXCHANGE',\n",
       "       'E-MINI S&P UTILITIES INDEX - CHICAGO MERCANTILE EXCHANGE',\n",
       "       'S&P 500 TOTAL RETURN INDEX - CHICAGO MERCANTILE EXCHANGE',\n",
       "       'MICRO E-MINI S&P 500 INDEX - CHICAGO MERCANTILE EXCHANGE',\n",
       "       'NASDAQ-100 Consolidated - CHICAGO MERCANTILE EXCHANGE',\n",
       "       'NASDAQ-100 STOCK INDEX (MINI) - CHICAGO MERCANTILE EXCHANGE',\n",
       "       'MICRO E-MINI NASDAQ-100 INDEX - CHICAGO MERCANTILE EXCHANGE',\n",
       "       'E-MINI RUSSELL 2000 INDEX - CHICAGO MERCANTILE EXCHANGE',\n",
       "       'EMINI RUSSELL 1000 VALUE INDEX - CHICAGO MERCANTILE EXCHANGE',\n",
       "       'NIKKEI STOCK AVERAGE - CHICAGO MERCANTILE EXCHANGE',\n",
       "       'NIKKEI STOCK AVERAGE YEN DENOM - CHICAGO MERCANTILE EXCHANGE',\n",
       "       'MSCI EAFE MINI INDEX - ICE FUTURES U.S.',\n",
       "       'MSCI EMERGING MKTS INDEX - ICE FUTURES U.S.',\n",
       "       'MSCI EMERGING MKTS MINI INDEX - ICE FUTURES U.S.',\n",
       "       'E-MINI S&P 400 STOCK INDEX - CHICAGO MERCANTILE EXCHANGE',\n",
       "       'S&P 500 ANNUAL DIVIDEND INDEX - CHICAGO MERCANTILE EXCHANGE',\n",
       "       'U.S. TREASURY BONDS - CHICAGO BOARD OF TRADE',\n",
       "       'ULTRA U.S. TREASURY BONDS - CHICAGO BOARD OF TRADE',\n",
       "       '2-YEAR U.S. TREASURY NOTES - CHICAGO BOARD OF TRADE',\n",
       "       '10-YEAR U.S. TREASURY NOTES - CHICAGO BOARD OF TRADE',\n",
       "       'ULTRA 10-YEAR U.S. T-NOTES - CHICAGO BOARD OF TRADE',\n",
       "       '5-YEAR U.S. TREASURY NOTES - CHICAGO BOARD OF TRADE',\n",
       "       '30-DAY FEDERAL FUNDS - CHICAGO BOARD OF TRADE',\n",
       "       '3-MONTH EURODOLLARS - CHICAGO MERCANTILE EXCHANGE',\n",
       "       '3-MONTH SOFR - CHICAGO MERCANTILE EXCHANGE',\n",
       "       '1-MONTH SOFR - CHICAGO MERCANTILE EXCHANGE',\n",
       "       '10 YEAR DELIVERABLE IR - CHICAGO BOARD OF TRADE',\n",
       "       '5 YEAR DELIVERABLE IR - CHICAGO BOARD OF TRADE',\n",
       "       '5 YEAR ERIS SWAP - CHICAGO BOARD OF TRADE',\n",
       "       'BITCOIN - CHICAGO MERCANTILE EXCHANGE',\n",
       "       'U.S. DOLLAR INDEX - ICE FUTURES U.S.',\n",
       "       'VIX FUTURES - CBOE FUTURES EXCHANGE',\n",
       "       'BLOOMBERG COMMODITY INDEX - CHICAGO BOARD OF TRADE'], dtype=object)"
      ]
     },
     "execution_count": 6,
     "metadata": {},
     "output_type": "execute_result"
    }
   ],
   "source": [
    "## REVISAMOS QUE ACTIVOS ESTAN EN LOS REPORTES\n",
    "ReportAssets(2020)"
   ]
  },
  {
   "cell_type": "code",
   "execution_count": 7,
   "metadata": {},
   "outputs": [
    {
     "data": {
      "text/html": [
       "<div>\n",
       "<style scoped>\n",
       "    .dataframe tbody tr th:only-of-type {\n",
       "        vertical-align: middle;\n",
       "    }\n",
       "\n",
       "    .dataframe tbody tr th {\n",
       "        vertical-align: top;\n",
       "    }\n",
       "\n",
       "    .dataframe thead th {\n",
       "        text-align: right;\n",
       "    }\n",
       "</style>\n",
       "<table border=\"1\" class=\"dataframe\">\n",
       "  <thead>\n",
       "    <tr style=\"text-align: right;\">\n",
       "      <th></th>\n",
       "      <th>Market_and_Exchange_Names</th>\n",
       "      <th>Open_Interest_All</th>\n",
       "      <th>Dealer_Positions_Long_All</th>\n",
       "      <th>Dealer_Positions_Short_All</th>\n",
       "      <th>Dealer_Positions_Spread_All</th>\n",
       "      <th>Asset_Mgr_Positions_Long_All</th>\n",
       "      <th>Asset_Mgr_Positions_Short_All</th>\n",
       "      <th>Asset_Mgr_Positions_Spread_All</th>\n",
       "      <th>Lev_Money_Positions_Long_All</th>\n",
       "      <th>Lev_Money_Positions_Short_All</th>\n",
       "      <th>Lev_Money_Positions_Spread_All</th>\n",
       "      <th>Other_Rept_Positions_Long_All</th>\n",
       "      <th>Other_Rept_Positions_Short_All</th>\n",
       "      <th>Other_Rept_Positions_Spread_All</th>\n",
       "      <th>NonRept_Positions_Long_All</th>\n",
       "      <th>NonRept_Positions_Short_All</th>\n",
       "      <th>Contract_Units</th>\n",
       "    </tr>\n",
       "    <tr>\n",
       "      <th>Report_Date_as_MM_DD_YYYY</th>\n",
       "      <th></th>\n",
       "      <th></th>\n",
       "      <th></th>\n",
       "      <th></th>\n",
       "      <th></th>\n",
       "      <th></th>\n",
       "      <th></th>\n",
       "      <th></th>\n",
       "      <th></th>\n",
       "      <th></th>\n",
       "      <th></th>\n",
       "      <th></th>\n",
       "      <th></th>\n",
       "      <th></th>\n",
       "      <th></th>\n",
       "      <th></th>\n",
       "      <th></th>\n",
       "    </tr>\n",
       "  </thead>\n",
       "  <tbody>\n",
       "    <tr>\n",
       "      <th>2020-01-07</th>\n",
       "      <td>MEXICAN PESO - CHICAGO MERCANTILE EXCHANGE</td>\n",
       "      <td>283332</td>\n",
       "      <td>590</td>\n",
       "      <td>188164</td>\n",
       "      <td>878</td>\n",
       "      <td>137419</td>\n",
       "      <td>4343</td>\n",
       "      <td>3225</td>\n",
       "      <td>113360</td>\n",
       "      <td>66208</td>\n",
       "      <td>1563</td>\n",
       "      <td>19284</td>\n",
       "      <td>15839</td>\n",
       "      <td>0</td>\n",
       "      <td>7013</td>\n",
       "      <td>3112</td>\n",
       "      <td>(CONTRACTS OF MXN 500,000)</td>\n",
       "    </tr>\n",
       "    <tr>\n",
       "      <th>2020-01-14</th>\n",
       "      <td>MEXICAN PESO - CHICAGO MERCANTILE EXCHANGE</td>\n",
       "      <td>294039</td>\n",
       "      <td>1078</td>\n",
       "      <td>205160</td>\n",
       "      <td>888</td>\n",
       "      <td>142202</td>\n",
       "      <td>7481</td>\n",
       "      <td>3016</td>\n",
       "      <td>115685</td>\n",
       "      <td>56662</td>\n",
       "      <td>1109</td>\n",
       "      <td>22392</td>\n",
       "      <td>16264</td>\n",
       "      <td>0</td>\n",
       "      <td>7669</td>\n",
       "      <td>3459</td>\n",
       "      <td>(CONTRACTS OF MXN 500,000)</td>\n",
       "    </tr>\n",
       "    <tr>\n",
       "      <th>2020-01-21</th>\n",
       "      <td>MEXICAN PESO - CHICAGO MERCANTILE EXCHANGE</td>\n",
       "      <td>299980</td>\n",
       "      <td>719</td>\n",
       "      <td>209204</td>\n",
       "      <td>888</td>\n",
       "      <td>148257</td>\n",
       "      <td>9067</td>\n",
       "      <td>3974</td>\n",
       "      <td>115999</td>\n",
       "      <td>54734</td>\n",
       "      <td>1377</td>\n",
       "      <td>20575</td>\n",
       "      <td>17046</td>\n",
       "      <td>0</td>\n",
       "      <td>8191</td>\n",
       "      <td>3690</td>\n",
       "      <td>(CONTRACTS OF MXN 500,000)</td>\n",
       "    </tr>\n",
       "    <tr>\n",
       "      <th>2020-01-28</th>\n",
       "      <td>MEXICAN PESO - CHICAGO MERCANTILE EXCHANGE</td>\n",
       "      <td>305928</td>\n",
       "      <td>3107</td>\n",
       "      <td>219480</td>\n",
       "      <td>954</td>\n",
       "      <td>161189</td>\n",
       "      <td>4661</td>\n",
       "      <td>2268</td>\n",
       "      <td>115908</td>\n",
       "      <td>54592</td>\n",
       "      <td>3081</td>\n",
       "      <td>11266</td>\n",
       "      <td>16957</td>\n",
       "      <td>0</td>\n",
       "      <td>8155</td>\n",
       "      <td>3935</td>\n",
       "      <td>(CONTRACTS OF MXN 500,000)</td>\n",
       "    </tr>\n",
       "  </tbody>\n",
       "</table>\n",
       "</div>"
      ],
      "text/plain": [
       "                                            Market_and_Exchange_Names  \\\n",
       "Report_Date_as_MM_DD_YYYY                                               \n",
       "2020-01-07                 MEXICAN PESO - CHICAGO MERCANTILE EXCHANGE   \n",
       "2020-01-14                 MEXICAN PESO - CHICAGO MERCANTILE EXCHANGE   \n",
       "2020-01-21                 MEXICAN PESO - CHICAGO MERCANTILE EXCHANGE   \n",
       "2020-01-28                 MEXICAN PESO - CHICAGO MERCANTILE EXCHANGE   \n",
       "\n",
       "                          Open_Interest_All Dealer_Positions_Long_All  \\\n",
       "Report_Date_as_MM_DD_YYYY                                               \n",
       "2020-01-07                           283332                       590   \n",
       "2020-01-14                           294039                      1078   \n",
       "2020-01-21                           299980                       719   \n",
       "2020-01-28                           305928                      3107   \n",
       "\n",
       "                          Dealer_Positions_Short_All  \\\n",
       "Report_Date_as_MM_DD_YYYY                              \n",
       "2020-01-07                                    188164   \n",
       "2020-01-14                                    205160   \n",
       "2020-01-21                                    209204   \n",
       "2020-01-28                                    219480   \n",
       "\n",
       "                          Dealer_Positions_Spread_All  \\\n",
       "Report_Date_as_MM_DD_YYYY                               \n",
       "2020-01-07                                        878   \n",
       "2020-01-14                                        888   \n",
       "2020-01-21                                        888   \n",
       "2020-01-28                                        954   \n",
       "\n",
       "                          Asset_Mgr_Positions_Long_All  \\\n",
       "Report_Date_as_MM_DD_YYYY                                \n",
       "2020-01-07                                      137419   \n",
       "2020-01-14                                      142202   \n",
       "2020-01-21                                      148257   \n",
       "2020-01-28                                      161189   \n",
       "\n",
       "                          Asset_Mgr_Positions_Short_All  \\\n",
       "Report_Date_as_MM_DD_YYYY                                 \n",
       "2020-01-07                                         4343   \n",
       "2020-01-14                                         7481   \n",
       "2020-01-21                                         9067   \n",
       "2020-01-28                                         4661   \n",
       "\n",
       "                          Asset_Mgr_Positions_Spread_All  \\\n",
       "Report_Date_as_MM_DD_YYYY                                  \n",
       "2020-01-07                                          3225   \n",
       "2020-01-14                                          3016   \n",
       "2020-01-21                                          3974   \n",
       "2020-01-28                                          2268   \n",
       "\n",
       "                          Lev_Money_Positions_Long_All  \\\n",
       "Report_Date_as_MM_DD_YYYY                                \n",
       "2020-01-07                                      113360   \n",
       "2020-01-14                                      115685   \n",
       "2020-01-21                                      115999   \n",
       "2020-01-28                                      115908   \n",
       "\n",
       "                          Lev_Money_Positions_Short_All  \\\n",
       "Report_Date_as_MM_DD_YYYY                                 \n",
       "2020-01-07                                        66208   \n",
       "2020-01-14                                        56662   \n",
       "2020-01-21                                        54734   \n",
       "2020-01-28                                        54592   \n",
       "\n",
       "                          Lev_Money_Positions_Spread_All  \\\n",
       "Report_Date_as_MM_DD_YYYY                                  \n",
       "2020-01-07                                          1563   \n",
       "2020-01-14                                          1109   \n",
       "2020-01-21                                          1377   \n",
       "2020-01-28                                          3081   \n",
       "\n",
       "                          Other_Rept_Positions_Long_All  \\\n",
       "Report_Date_as_MM_DD_YYYY                                 \n",
       "2020-01-07                                        19284   \n",
       "2020-01-14                                        22392   \n",
       "2020-01-21                                        20575   \n",
       "2020-01-28                                        11266   \n",
       "\n",
       "                          Other_Rept_Positions_Short_All  \\\n",
       "Report_Date_as_MM_DD_YYYY                                  \n",
       "2020-01-07                                         15839   \n",
       "2020-01-14                                         16264   \n",
       "2020-01-21                                         17046   \n",
       "2020-01-28                                         16957   \n",
       "\n",
       "                          Other_Rept_Positions_Spread_All  \\\n",
       "Report_Date_as_MM_DD_YYYY                                   \n",
       "2020-01-07                                              0   \n",
       "2020-01-14                                              0   \n",
       "2020-01-21                                              0   \n",
       "2020-01-28                                              0   \n",
       "\n",
       "                          NonRept_Positions_Long_All  \\\n",
       "Report_Date_as_MM_DD_YYYY                              \n",
       "2020-01-07                                      7013   \n",
       "2020-01-14                                      7669   \n",
       "2020-01-21                                      8191   \n",
       "2020-01-28                                      8155   \n",
       "\n",
       "                          NonRept_Positions_Short_All  \\\n",
       "Report_Date_as_MM_DD_YYYY                               \n",
       "2020-01-07                                       3112   \n",
       "2020-01-14                                       3459   \n",
       "2020-01-21                                       3690   \n",
       "2020-01-28                                       3935   \n",
       "\n",
       "                                       Contract_Units  \n",
       "Report_Date_as_MM_DD_YYYY                              \n",
       "2020-01-07                 (CONTRACTS OF MXN 500,000)  \n",
       "2020-01-14                 (CONTRACTS OF MXN 500,000)  \n",
       "2020-01-21                 (CONTRACTS OF MXN 500,000)  \n",
       "2020-01-28                 (CONTRACTS OF MXN 500,000)  "
      ]
     },
     "execution_count": 7,
     "metadata": {},
     "output_type": "execute_result"
    }
   ],
   "source": [
    "## CONSIDERAMOS SOLAMENTE EL REPORTE DE MXN PARA 2020.\n",
    "Asset('MEXICAN PESO - CHICAGO MERCANTILE EXCHANGE', 2020).head(4)"
   ]
  },
  {
   "cell_type": "markdown",
   "metadata": {},
   "source": [
    "### COMPAREMOS DE NUEVO CON EL CoT REPORT\n",
    "\n",
    "\n",
    "![alt text](report_mxn.png \"Title\")"
   ]
  },
  {
   "cell_type": "markdown",
   "metadata": {},
   "source": [
    "### ¿QUÉ ES EL SPREADING?"
   ]
  },
  {
   "cell_type": "code",
   "execution_count": null,
   "metadata": {},
   "outputs": [],
   "source": []
  },
  {
   "cell_type": "markdown",
   "metadata": {},
   "source": [
    "### HISTÓRICO PRECIO DE USD/MXN"
   ]
  },
  {
   "cell_type": "code",
   "execution_count": null,
   "metadata": {},
   "outputs": [],
   "source": [
    "##VAMOS A VER LOS DATOS GRAFICADOS DE LOS PRECIOS DE USD/MXN\n",
    "usdmxn = yf.Ticker(\"MXN=X\").history(period=\"6y\")\n",
    "dates, Open, High, Low, Close = usdmxn.index, usdmxn.Open, usdmxn.High, usdmxn.Low, usdmxn.Close\n",
    "trace0 = go.Figure(data=[go.Candlestick(x=dates, open=Open, high=High, low=Low, close=Close)])\n",
    "trace0.update_layout(xaxis_rangeslider_visible=False, title= \"USD/MXN Precios Históricos\",paper_bgcolor='white', plot_bgcolor='white')\n",
    "trace0"
   ]
  },
  {
   "cell_type": "code",
   "execution_count": null,
   "metadata": {},
   "outputs": [],
   "source": [
    "##VAMOS A VER LOS DATOS GRAFICADOS DE LOS PRECIOS DE USD/MXN\n",
    "xpoints, ypoints = usdmxn.index, usdmxn.Close\n",
    "data = [go.Scatter(x = xpoints, y = ypoints)]\n",
    "layout = go.Layout(title=\"USD/MXN Precios Históricos\",paper_bgcolor='white', plot_bgcolor='white')\n",
    "plotly.offline.iplot({ \"data\": data,\"layout\": layout})"
   ]
  },
  {
   "cell_type": "markdown",
   "metadata": {},
   "source": [
    "### 0) INTERÉS ABIERTO TOTAL"
   ]
  },
  {
   "cell_type": "code",
   "execution_count": 8,
   "metadata": {},
   "outputs": [
    {
     "data": {
      "application/vnd.plotly.v1+json": {
       "config": {
        "linkText": "Export to plot.ly",
        "plotlyServerURL": "https://plot.ly",
        "showLink": false
       },
       "data": [
        {
         "type": "scatter",
         "x": [
          "2015-01-06T00:00:00",
          "2015-01-13T00:00:00",
          "2015-01-20T00:00:00",
          "2015-01-27T00:00:00",
          "2015-02-03T00:00:00",
          "2015-02-10T00:00:00",
          "2015-02-17T00:00:00",
          "2015-02-24T00:00:00",
          "2015-03-03T00:00:00",
          "2015-03-10T00:00:00",
          "2015-03-17T00:00:00",
          "2015-03-24T00:00:00",
          "2015-03-31T00:00:00",
          "2015-04-07T00:00:00",
          "2015-04-14T00:00:00",
          "2015-04-21T00:00:00",
          "2015-04-28T00:00:00",
          "2015-05-05T00:00:00",
          "2015-05-12T00:00:00",
          "2015-05-19T00:00:00",
          "2015-05-26T00:00:00",
          "2015-06-02T00:00:00",
          "2015-06-09T00:00:00",
          "2015-06-16T00:00:00",
          "2015-06-23T00:00:00",
          "2015-06-30T00:00:00",
          "2015-07-07T00:00:00",
          "2015-07-14T00:00:00",
          "2015-07-21T00:00:00",
          "2015-07-28T00:00:00",
          "2015-08-04T00:00:00",
          "2015-08-11T00:00:00",
          "2015-08-18T00:00:00",
          "2015-08-25T00:00:00",
          "2015-09-01T00:00:00",
          "2015-09-08T00:00:00",
          "2015-09-15T00:00:00",
          "2015-09-22T00:00:00",
          "2015-09-29T00:00:00",
          "2015-10-06T00:00:00",
          "2015-10-13T00:00:00",
          "2015-10-20T00:00:00",
          "2015-10-27T00:00:00",
          "2015-11-03T00:00:00",
          "2015-11-10T00:00:00",
          "2015-11-17T00:00:00",
          "2015-11-24T00:00:00",
          "2015-12-01T00:00:00",
          "2015-12-08T00:00:00",
          "2015-12-15T00:00:00",
          "2015-12-22T00:00:00",
          "2015-12-29T00:00:00",
          "2016-01-05T00:00:00",
          "2016-01-12T00:00:00",
          "2016-01-19T00:00:00",
          "2016-01-26T00:00:00",
          "2016-02-02T00:00:00",
          "2016-02-09T00:00:00",
          "2016-02-16T00:00:00",
          "2016-02-23T00:00:00",
          "2016-03-01T00:00:00",
          "2016-03-08T00:00:00",
          "2016-03-15T00:00:00",
          "2016-03-22T00:00:00",
          "2016-03-29T00:00:00",
          "2016-04-05T00:00:00",
          "2016-04-12T00:00:00",
          "2016-04-19T00:00:00",
          "2016-04-26T00:00:00",
          "2016-05-03T00:00:00",
          "2016-05-10T00:00:00",
          "2016-05-17T00:00:00",
          "2016-05-24T00:00:00",
          "2016-05-31T00:00:00",
          "2016-06-07T00:00:00",
          "2016-06-14T00:00:00",
          "2016-06-21T00:00:00",
          "2016-06-28T00:00:00",
          "2016-07-05T00:00:00",
          "2016-07-12T00:00:00",
          "2016-07-19T00:00:00",
          "2016-07-26T00:00:00",
          "2016-08-02T00:00:00",
          "2016-08-09T00:00:00",
          "2016-08-16T00:00:00",
          "2016-08-23T00:00:00",
          "2016-08-30T00:00:00",
          "2016-09-06T00:00:00",
          "2016-09-13T00:00:00",
          "2016-09-20T00:00:00",
          "2016-09-27T00:00:00",
          "2016-10-04T00:00:00",
          "2016-10-11T00:00:00",
          "2016-10-18T00:00:00",
          "2016-10-25T00:00:00",
          "2016-11-01T00:00:00",
          "2016-11-08T00:00:00",
          "2016-11-15T00:00:00",
          "2016-11-22T00:00:00",
          "2016-11-29T00:00:00",
          "2016-12-06T00:00:00",
          "2016-12-13T00:00:00",
          "2016-12-20T00:00:00",
          "2016-12-27T00:00:00",
          "2017-01-03T00:00:00",
          "2017-01-10T00:00:00",
          "2017-01-17T00:00:00",
          "2017-01-24T00:00:00",
          "2017-01-31T00:00:00",
          "2017-02-07T00:00:00",
          "2017-02-14T00:00:00",
          "2017-02-21T00:00:00",
          "2017-02-28T00:00:00",
          "2017-03-07T00:00:00",
          "2017-03-14T00:00:00",
          "2017-03-21T00:00:00",
          "2017-03-28T00:00:00",
          "2017-04-04T00:00:00",
          "2017-04-11T00:00:00",
          "2017-04-18T00:00:00",
          "2017-04-25T00:00:00",
          "2017-05-02T00:00:00",
          "2017-05-09T00:00:00",
          "2017-05-16T00:00:00",
          "2017-05-23T00:00:00",
          "2017-05-30T00:00:00",
          "2017-06-06T00:00:00",
          "2017-06-13T00:00:00",
          "2017-06-20T00:00:00",
          "2017-06-27T00:00:00",
          "2017-07-03T00:00:00",
          "2017-07-11T00:00:00",
          "2017-07-18T00:00:00",
          "2017-07-25T00:00:00",
          "2017-08-01T00:00:00",
          "2017-08-08T00:00:00",
          "2017-08-15T00:00:00",
          "2017-08-22T00:00:00",
          "2017-08-29T00:00:00",
          "2017-09-05T00:00:00",
          "2017-09-12T00:00:00",
          "2017-09-19T00:00:00",
          "2017-09-26T00:00:00",
          "2017-10-03T00:00:00",
          "2017-10-10T00:00:00",
          "2017-10-17T00:00:00",
          "2017-10-24T00:00:00",
          "2017-10-31T00:00:00",
          "2017-11-07T00:00:00",
          "2017-11-14T00:00:00",
          "2017-11-21T00:00:00",
          "2017-11-28T00:00:00",
          "2017-12-05T00:00:00",
          "2017-12-12T00:00:00",
          "2017-12-19T00:00:00",
          "2017-12-26T00:00:00",
          "2018-01-02T00:00:00",
          "2018-01-09T00:00:00",
          "2018-01-16T00:00:00",
          "2018-01-23T00:00:00",
          "2018-01-30T00:00:00",
          "2018-02-06T00:00:00",
          "2018-02-13T00:00:00",
          "2018-02-20T00:00:00",
          "2018-02-27T00:00:00",
          "2018-03-06T00:00:00",
          "2018-03-13T00:00:00",
          "2018-03-20T00:00:00",
          "2018-03-27T00:00:00",
          "2018-04-03T00:00:00",
          "2018-04-10T00:00:00",
          "2018-04-17T00:00:00",
          "2018-04-24T00:00:00",
          "2018-05-01T00:00:00",
          "2018-05-08T00:00:00",
          "2018-05-15T00:00:00",
          "2018-05-22T00:00:00",
          "2018-05-29T00:00:00",
          "2018-06-05T00:00:00",
          "2018-06-12T00:00:00",
          "2018-06-19T00:00:00",
          "2018-06-26T00:00:00",
          "2018-07-03T00:00:00",
          "2018-07-10T00:00:00",
          "2018-07-17T00:00:00",
          "2018-07-24T00:00:00",
          "2018-07-31T00:00:00",
          "2018-08-07T00:00:00",
          "2018-08-14T00:00:00",
          "2018-08-21T00:00:00",
          "2018-08-28T00:00:00",
          "2018-09-04T00:00:00",
          "2018-09-11T00:00:00",
          "2018-09-18T00:00:00",
          "2018-09-25T00:00:00",
          "2018-10-02T00:00:00",
          "2018-10-09T00:00:00",
          "2018-10-16T00:00:00",
          "2018-10-23T00:00:00",
          "2018-10-30T00:00:00",
          "2018-11-06T00:00:00",
          "2018-11-13T00:00:00",
          "2018-11-20T00:00:00",
          "2018-11-27T00:00:00",
          "2018-12-04T00:00:00",
          "2018-12-11T00:00:00",
          "2018-12-18T00:00:00",
          "2018-12-24T00:00:00",
          "2018-12-31T00:00:00",
          "2019-01-08T00:00:00",
          "2019-01-15T00:00:00",
          "2019-01-22T00:00:00",
          "2019-01-29T00:00:00",
          "2019-02-05T00:00:00",
          "2019-02-12T00:00:00",
          "2019-02-19T00:00:00",
          "2019-02-26T00:00:00",
          "2019-03-05T00:00:00",
          "2019-03-12T00:00:00",
          "2019-03-19T00:00:00",
          "2019-03-26T00:00:00",
          "2019-04-02T00:00:00",
          "2019-04-09T00:00:00",
          "2019-04-16T00:00:00",
          "2019-04-23T00:00:00",
          "2019-04-30T00:00:00",
          "2019-05-07T00:00:00",
          "2019-05-14T00:00:00",
          "2019-05-21T00:00:00",
          "2019-05-28T00:00:00",
          "2019-06-04T00:00:00",
          "2019-06-11T00:00:00",
          "2019-06-18T00:00:00",
          "2019-06-25T00:00:00",
          "2019-07-02T00:00:00",
          "2019-07-09T00:00:00",
          "2019-07-16T00:00:00",
          "2019-07-23T00:00:00",
          "2019-07-30T00:00:00",
          "2019-08-06T00:00:00",
          "2019-08-13T00:00:00",
          "2019-08-20T00:00:00",
          "2019-08-27T00:00:00",
          "2019-09-03T00:00:00",
          "2019-09-10T00:00:00",
          "2019-09-17T00:00:00",
          "2019-09-24T00:00:00",
          "2019-10-01T00:00:00",
          "2019-10-08T00:00:00",
          "2019-10-15T00:00:00",
          "2019-10-22T00:00:00",
          "2019-10-29T00:00:00",
          "2019-11-05T00:00:00",
          "2019-11-12T00:00:00",
          "2019-11-19T00:00:00",
          "2019-11-26T00:00:00",
          "2019-12-03T00:00:00",
          "2019-12-10T00:00:00",
          "2019-12-17T00:00:00",
          "2019-12-24T00:00:00",
          "2019-12-31T00:00:00",
          "2020-01-07T00:00:00",
          "2020-01-14T00:00:00",
          "2020-01-21T00:00:00",
          "2020-01-28T00:00:00",
          "2020-02-04T00:00:00",
          "2020-02-11T00:00:00",
          "2020-02-18T00:00:00",
          "2020-02-25T00:00:00",
          "2020-03-03T00:00:00",
          "2020-03-10T00:00:00",
          "2020-03-17T00:00:00",
          "2020-03-24T00:00:00",
          "2020-03-31T00:00:00",
          "2020-04-07T00:00:00",
          "2020-04-14T00:00:00",
          "2020-04-21T00:00:00",
          "2020-04-28T00:00:00",
          "2020-05-05T00:00:00",
          "2020-05-12T00:00:00",
          "2020-05-19T00:00:00",
          "2020-05-26T00:00:00",
          "2020-06-02T00:00:00",
          "2020-06-09T00:00:00",
          "2020-06-16T00:00:00",
          "2020-06-23T00:00:00",
          "2020-06-30T00:00:00",
          "2020-07-07T00:00:00",
          "2020-07-14T00:00:00",
          "2020-07-21T00:00:00",
          "2020-07-28T00:00:00",
          "2020-08-04T00:00:00",
          "2020-08-11T00:00:00",
          "2020-08-18T00:00:00",
          "2020-08-25T00:00:00",
          "2020-09-01T00:00:00",
          "2020-09-08T00:00:00",
          "2020-09-15T00:00:00",
          "2020-09-22T00:00:00",
          "2020-09-29T00:00:00"
         ],
         "y": [
          131121,
          131155,
          148671,
          153115,
          161412,
          174861,
          175704,
          180506,
          178057,
          185039,
          135144,
          150320,
          157688,
          151072,
          130501,
          118074,
          138497,
          146418,
          135526,
          127349,
          129030,
          152809,
          179026,
          133660,
          111876,
          111471,
          140418,
          153639,
          189662,
          196328,
          191087,
          173781,
          171467,
          196090,
          191019,
          188237,
          130555,
          126544,
          142517,
          119424,
          116418,
          119955,
          136629,
          148844,
          158543,
          181499,
          189063,
          186826,
          199890,
          144451,
          137854,
          139756,
          143374,
          148683,
          171971,
          167763,
          166295,
          155692,
          161403,
          145631,
          141104,
          139105,
          97456,
          105395,
          109067,
          113872,
          153572,
          126511,
          117178,
          116533,
          128911,
          134805,
          138084,
          143577,
          142333,
          110890,
          111143,
          109440,
          103117,
          97361,
          103432,
          119753,
          128186,
          127632,
          120749,
          113732,
          114101,
          162430,
          168729,
          153278,
          160243,
          157510,
          135977,
          129729,
          139555,
          157048,
          148866,
          153771,
          154976,
          155401,
          151640,
          155718,
          139166,
          143192,
          151563,
          174390,
          177433,
          191470,
          184327,
          189464,
          190028,
          193415,
          194858,
          209454,
          169900,
          176764,
          191438,
          199099,
          205663,
          195575,
          177359,
          177326,
          179886,
          183857,
          211110,
          206058,
          207116,
          233490,
          217481,
          212815,
          210730,
          213241,
          209717,
          212346,
          214358,
          218908,
          237589,
          243849,
          246509,
          240705,
          258092,
          218381,
          219926,
          204344,
          188075,
          188907,
          180527,
          177306,
          177429,
          177739,
          179530,
          171485,
          179296,
          211478,
          181925,
          184543,
          193802,
          184250,
          172511,
          178983,
          188829,
          201316,
          196517,
          196447,
          189222,
          192062,
          196223,
          182537,
          199947,
          209945,
          223499,
          228823,
          232193,
          216905,
          199756,
          183354,
          184285,
          181671,
          202098,
          214278,
          156503,
          150501,
          145233,
          141886,
          155008,
          177515,
          189767,
          198476,
          207354,
          213196,
          217019,
          220430,
          245043,
          200192,
          204650,
          217218,
          208594,
          215138,
          206270,
          192330,
          184085,
          186246,
          186030,
          189912,
          191512,
          184120,
          122610,
          137078,
          151235,
          160493,
          190187,
          206199,
          214141,
          222193,
          223535,
          233792,
          236584,
          246641,
          273064,
          235008,
          239526,
          227327,
          234676,
          244360,
          252304,
          258551,
          263669,
          265513,
          271550,
          274999,
          242090,
          222003,
          202744,
          216206,
          236052,
          244234,
          225725,
          221368,
          221211,
          222394,
          212499,
          197525,
          189136,
          187869,
          196951,
          187938,
          199268,
          215614,
          218266,
          233100,
          254385,
          280627,
          299034,
          298167,
          294412,
          292397,
          290980,
          304848,
          288786,
          274987,
          277946,
          283332,
          294039,
          299980,
          305928,
          308894,
          302445,
          301797,
          276267,
          233892,
          224550,
          121964,
          110323,
          102712,
          102137,
          109371,
          105480,
          103359,
          100220,
          101098,
          103425,
          128952,
          122614,
          135937,
          109329,
          113290,
          122007,
          122938,
          124807,
          128136,
          133914,
          128492,
          130908,
          134542,
          134794,
          132731,
          150387,
          134482,
          136718,
          121918
         ]
        }
       ],
       "layout": {
        "paper_bgcolor": "white",
        "plot_bgcolor": "white",
        "template": {
         "data": {
          "bar": [
           {
            "error_x": {
             "color": "#2a3f5f"
            },
            "error_y": {
             "color": "#2a3f5f"
            },
            "marker": {
             "line": {
              "color": "#E5ECF6",
              "width": 0.5
             }
            },
            "type": "bar"
           }
          ],
          "barpolar": [
           {
            "marker": {
             "line": {
              "color": "#E5ECF6",
              "width": 0.5
             }
            },
            "type": "barpolar"
           }
          ],
          "carpet": [
           {
            "aaxis": {
             "endlinecolor": "#2a3f5f",
             "gridcolor": "white",
             "linecolor": "white",
             "minorgridcolor": "white",
             "startlinecolor": "#2a3f5f"
            },
            "baxis": {
             "endlinecolor": "#2a3f5f",
             "gridcolor": "white",
             "linecolor": "white",
             "minorgridcolor": "white",
             "startlinecolor": "#2a3f5f"
            },
            "type": "carpet"
           }
          ],
          "choropleth": [
           {
            "colorbar": {
             "outlinewidth": 0,
             "ticks": ""
            },
            "type": "choropleth"
           }
          ],
          "contour": [
           {
            "colorbar": {
             "outlinewidth": 0,
             "ticks": ""
            },
            "colorscale": [
             [
              0,
              "#0d0887"
             ],
             [
              0.1111111111111111,
              "#46039f"
             ],
             [
              0.2222222222222222,
              "#7201a8"
             ],
             [
              0.3333333333333333,
              "#9c179e"
             ],
             [
              0.4444444444444444,
              "#bd3786"
             ],
             [
              0.5555555555555556,
              "#d8576b"
             ],
             [
              0.6666666666666666,
              "#ed7953"
             ],
             [
              0.7777777777777778,
              "#fb9f3a"
             ],
             [
              0.8888888888888888,
              "#fdca26"
             ],
             [
              1,
              "#f0f921"
             ]
            ],
            "type": "contour"
           }
          ],
          "contourcarpet": [
           {
            "colorbar": {
             "outlinewidth": 0,
             "ticks": ""
            },
            "type": "contourcarpet"
           }
          ],
          "heatmap": [
           {
            "colorbar": {
             "outlinewidth": 0,
             "ticks": ""
            },
            "colorscale": [
             [
              0,
              "#0d0887"
             ],
             [
              0.1111111111111111,
              "#46039f"
             ],
             [
              0.2222222222222222,
              "#7201a8"
             ],
             [
              0.3333333333333333,
              "#9c179e"
             ],
             [
              0.4444444444444444,
              "#bd3786"
             ],
             [
              0.5555555555555556,
              "#d8576b"
             ],
             [
              0.6666666666666666,
              "#ed7953"
             ],
             [
              0.7777777777777778,
              "#fb9f3a"
             ],
             [
              0.8888888888888888,
              "#fdca26"
             ],
             [
              1,
              "#f0f921"
             ]
            ],
            "type": "heatmap"
           }
          ],
          "heatmapgl": [
           {
            "colorbar": {
             "outlinewidth": 0,
             "ticks": ""
            },
            "colorscale": [
             [
              0,
              "#0d0887"
             ],
             [
              0.1111111111111111,
              "#46039f"
             ],
             [
              0.2222222222222222,
              "#7201a8"
             ],
             [
              0.3333333333333333,
              "#9c179e"
             ],
             [
              0.4444444444444444,
              "#bd3786"
             ],
             [
              0.5555555555555556,
              "#d8576b"
             ],
             [
              0.6666666666666666,
              "#ed7953"
             ],
             [
              0.7777777777777778,
              "#fb9f3a"
             ],
             [
              0.8888888888888888,
              "#fdca26"
             ],
             [
              1,
              "#f0f921"
             ]
            ],
            "type": "heatmapgl"
           }
          ],
          "histogram": [
           {
            "marker": {
             "colorbar": {
              "outlinewidth": 0,
              "ticks": ""
             }
            },
            "type": "histogram"
           }
          ],
          "histogram2d": [
           {
            "colorbar": {
             "outlinewidth": 0,
             "ticks": ""
            },
            "colorscale": [
             [
              0,
              "#0d0887"
             ],
             [
              0.1111111111111111,
              "#46039f"
             ],
             [
              0.2222222222222222,
              "#7201a8"
             ],
             [
              0.3333333333333333,
              "#9c179e"
             ],
             [
              0.4444444444444444,
              "#bd3786"
             ],
             [
              0.5555555555555556,
              "#d8576b"
             ],
             [
              0.6666666666666666,
              "#ed7953"
             ],
             [
              0.7777777777777778,
              "#fb9f3a"
             ],
             [
              0.8888888888888888,
              "#fdca26"
             ],
             [
              1,
              "#f0f921"
             ]
            ],
            "type": "histogram2d"
           }
          ],
          "histogram2dcontour": [
           {
            "colorbar": {
             "outlinewidth": 0,
             "ticks": ""
            },
            "colorscale": [
             [
              0,
              "#0d0887"
             ],
             [
              0.1111111111111111,
              "#46039f"
             ],
             [
              0.2222222222222222,
              "#7201a8"
             ],
             [
              0.3333333333333333,
              "#9c179e"
             ],
             [
              0.4444444444444444,
              "#bd3786"
             ],
             [
              0.5555555555555556,
              "#d8576b"
             ],
             [
              0.6666666666666666,
              "#ed7953"
             ],
             [
              0.7777777777777778,
              "#fb9f3a"
             ],
             [
              0.8888888888888888,
              "#fdca26"
             ],
             [
              1,
              "#f0f921"
             ]
            ],
            "type": "histogram2dcontour"
           }
          ],
          "mesh3d": [
           {
            "colorbar": {
             "outlinewidth": 0,
             "ticks": ""
            },
            "type": "mesh3d"
           }
          ],
          "parcoords": [
           {
            "line": {
             "colorbar": {
              "outlinewidth": 0,
              "ticks": ""
             }
            },
            "type": "parcoords"
           }
          ],
          "pie": [
           {
            "automargin": true,
            "type": "pie"
           }
          ],
          "scatter": [
           {
            "marker": {
             "colorbar": {
              "outlinewidth": 0,
              "ticks": ""
             }
            },
            "type": "scatter"
           }
          ],
          "scatter3d": [
           {
            "line": {
             "colorbar": {
              "outlinewidth": 0,
              "ticks": ""
             }
            },
            "marker": {
             "colorbar": {
              "outlinewidth": 0,
              "ticks": ""
             }
            },
            "type": "scatter3d"
           }
          ],
          "scattercarpet": [
           {
            "marker": {
             "colorbar": {
              "outlinewidth": 0,
              "ticks": ""
             }
            },
            "type": "scattercarpet"
           }
          ],
          "scattergeo": [
           {
            "marker": {
             "colorbar": {
              "outlinewidth": 0,
              "ticks": ""
             }
            },
            "type": "scattergeo"
           }
          ],
          "scattergl": [
           {
            "marker": {
             "colorbar": {
              "outlinewidth": 0,
              "ticks": ""
             }
            },
            "type": "scattergl"
           }
          ],
          "scattermapbox": [
           {
            "marker": {
             "colorbar": {
              "outlinewidth": 0,
              "ticks": ""
             }
            },
            "type": "scattermapbox"
           }
          ],
          "scatterpolar": [
           {
            "marker": {
             "colorbar": {
              "outlinewidth": 0,
              "ticks": ""
             }
            },
            "type": "scatterpolar"
           }
          ],
          "scatterpolargl": [
           {
            "marker": {
             "colorbar": {
              "outlinewidth": 0,
              "ticks": ""
             }
            },
            "type": "scatterpolargl"
           }
          ],
          "scatterternary": [
           {
            "marker": {
             "colorbar": {
              "outlinewidth": 0,
              "ticks": ""
             }
            },
            "type": "scatterternary"
           }
          ],
          "surface": [
           {
            "colorbar": {
             "outlinewidth": 0,
             "ticks": ""
            },
            "colorscale": [
             [
              0,
              "#0d0887"
             ],
             [
              0.1111111111111111,
              "#46039f"
             ],
             [
              0.2222222222222222,
              "#7201a8"
             ],
             [
              0.3333333333333333,
              "#9c179e"
             ],
             [
              0.4444444444444444,
              "#bd3786"
             ],
             [
              0.5555555555555556,
              "#d8576b"
             ],
             [
              0.6666666666666666,
              "#ed7953"
             ],
             [
              0.7777777777777778,
              "#fb9f3a"
             ],
             [
              0.8888888888888888,
              "#fdca26"
             ],
             [
              1,
              "#f0f921"
             ]
            ],
            "type": "surface"
           }
          ],
          "table": [
           {
            "cells": {
             "fill": {
              "color": "#EBF0F8"
             },
             "line": {
              "color": "white"
             }
            },
            "header": {
             "fill": {
              "color": "#C8D4E3"
             },
             "line": {
              "color": "white"
             }
            },
            "type": "table"
           }
          ]
         },
         "layout": {
          "annotationdefaults": {
           "arrowcolor": "#2a3f5f",
           "arrowhead": 0,
           "arrowwidth": 1
          },
          "coloraxis": {
           "colorbar": {
            "outlinewidth": 0,
            "ticks": ""
           }
          },
          "colorscale": {
           "diverging": [
            [
             0,
             "#8e0152"
            ],
            [
             0.1,
             "#c51b7d"
            ],
            [
             0.2,
             "#de77ae"
            ],
            [
             0.3,
             "#f1b6da"
            ],
            [
             0.4,
             "#fde0ef"
            ],
            [
             0.5,
             "#f7f7f7"
            ],
            [
             0.6,
             "#e6f5d0"
            ],
            [
             0.7,
             "#b8e186"
            ],
            [
             0.8,
             "#7fbc41"
            ],
            [
             0.9,
             "#4d9221"
            ],
            [
             1,
             "#276419"
            ]
           ],
           "sequential": [
            [
             0,
             "#0d0887"
            ],
            [
             0.1111111111111111,
             "#46039f"
            ],
            [
             0.2222222222222222,
             "#7201a8"
            ],
            [
             0.3333333333333333,
             "#9c179e"
            ],
            [
             0.4444444444444444,
             "#bd3786"
            ],
            [
             0.5555555555555556,
             "#d8576b"
            ],
            [
             0.6666666666666666,
             "#ed7953"
            ],
            [
             0.7777777777777778,
             "#fb9f3a"
            ],
            [
             0.8888888888888888,
             "#fdca26"
            ],
            [
             1,
             "#f0f921"
            ]
           ],
           "sequentialminus": [
            [
             0,
             "#0d0887"
            ],
            [
             0.1111111111111111,
             "#46039f"
            ],
            [
             0.2222222222222222,
             "#7201a8"
            ],
            [
             0.3333333333333333,
             "#9c179e"
            ],
            [
             0.4444444444444444,
             "#bd3786"
            ],
            [
             0.5555555555555556,
             "#d8576b"
            ],
            [
             0.6666666666666666,
             "#ed7953"
            ],
            [
             0.7777777777777778,
             "#fb9f3a"
            ],
            [
             0.8888888888888888,
             "#fdca26"
            ],
            [
             1,
             "#f0f921"
            ]
           ]
          },
          "colorway": [
           "#636efa",
           "#EF553B",
           "#00cc96",
           "#ab63fa",
           "#FFA15A",
           "#19d3f3",
           "#FF6692",
           "#B6E880",
           "#FF97FF",
           "#FECB52"
          ],
          "font": {
           "color": "#2a3f5f"
          },
          "geo": {
           "bgcolor": "white",
           "lakecolor": "white",
           "landcolor": "#E5ECF6",
           "showlakes": true,
           "showland": true,
           "subunitcolor": "white"
          },
          "hoverlabel": {
           "align": "left"
          },
          "hovermode": "closest",
          "mapbox": {
           "style": "light"
          },
          "paper_bgcolor": "white",
          "plot_bgcolor": "#E5ECF6",
          "polar": {
           "angularaxis": {
            "gridcolor": "white",
            "linecolor": "white",
            "ticks": ""
           },
           "bgcolor": "#E5ECF6",
           "radialaxis": {
            "gridcolor": "white",
            "linecolor": "white",
            "ticks": ""
           }
          },
          "scene": {
           "xaxis": {
            "backgroundcolor": "#E5ECF6",
            "gridcolor": "white",
            "gridwidth": 2,
            "linecolor": "white",
            "showbackground": true,
            "ticks": "",
            "zerolinecolor": "white"
           },
           "yaxis": {
            "backgroundcolor": "#E5ECF6",
            "gridcolor": "white",
            "gridwidth": 2,
            "linecolor": "white",
            "showbackground": true,
            "ticks": "",
            "zerolinecolor": "white"
           },
           "zaxis": {
            "backgroundcolor": "#E5ECF6",
            "gridcolor": "white",
            "gridwidth": 2,
            "linecolor": "white",
            "showbackground": true,
            "ticks": "",
            "zerolinecolor": "white"
           }
          },
          "shapedefaults": {
           "line": {
            "color": "#2a3f5f"
           }
          },
          "ternary": {
           "aaxis": {
            "gridcolor": "white",
            "linecolor": "white",
            "ticks": ""
           },
           "baxis": {
            "gridcolor": "white",
            "linecolor": "white",
            "ticks": ""
           },
           "bgcolor": "#E5ECF6",
           "caxis": {
            "gridcolor": "white",
            "linecolor": "white",
            "ticks": ""
           }
          },
          "title": {
           "x": 0.05
          },
          "xaxis": {
           "automargin": true,
           "gridcolor": "white",
           "linecolor": "white",
           "ticks": "",
           "title": {
            "standoff": 15
           },
           "zerolinecolor": "white",
           "zerolinewidth": 2
          },
          "yaxis": {
           "automargin": true,
           "gridcolor": "white",
           "linecolor": "white",
           "ticks": "",
           "title": {
            "standoff": 15
           },
           "zerolinecolor": "white",
           "zerolinewidth": 2
          }
         }
        },
        "title": {
         "text": "Interés Abierto Total en USD/MXN"
        }
       }
      },
      "text/html": [
       "<div>                            <div id=\"71c8e2f6-8c84-405a-8fc5-157654c3c244\" class=\"plotly-graph-div\" style=\"height:525px; width:100%;\"></div>            <script type=\"text/javascript\">                require([\"plotly\"], function(Plotly) {                    window.PLOTLYENV=window.PLOTLYENV || {};                                    if (document.getElementById(\"71c8e2f6-8c84-405a-8fc5-157654c3c244\")) {                    Plotly.newPlot(                        \"71c8e2f6-8c84-405a-8fc5-157654c3c244\",                        [{\"type\": \"scatter\", \"x\": [\"2015-01-06T00:00:00\", \"2015-01-13T00:00:00\", \"2015-01-20T00:00:00\", \"2015-01-27T00:00:00\", \"2015-02-03T00:00:00\", \"2015-02-10T00:00:00\", \"2015-02-17T00:00:00\", \"2015-02-24T00:00:00\", \"2015-03-03T00:00:00\", \"2015-03-10T00:00:00\", \"2015-03-17T00:00:00\", \"2015-03-24T00:00:00\", \"2015-03-31T00:00:00\", \"2015-04-07T00:00:00\", \"2015-04-14T00:00:00\", \"2015-04-21T00:00:00\", \"2015-04-28T00:00:00\", \"2015-05-05T00:00:00\", \"2015-05-12T00:00:00\", \"2015-05-19T00:00:00\", \"2015-05-26T00:00:00\", \"2015-06-02T00:00:00\", \"2015-06-09T00:00:00\", \"2015-06-16T00:00:00\", \"2015-06-23T00:00:00\", \"2015-06-30T00:00:00\", \"2015-07-07T00:00:00\", \"2015-07-14T00:00:00\", \"2015-07-21T00:00:00\", \"2015-07-28T00:00:00\", \"2015-08-04T00:00:00\", \"2015-08-11T00:00:00\", \"2015-08-18T00:00:00\", \"2015-08-25T00:00:00\", \"2015-09-01T00:00:00\", \"2015-09-08T00:00:00\", \"2015-09-15T00:00:00\", \"2015-09-22T00:00:00\", \"2015-09-29T00:00:00\", \"2015-10-06T00:00:00\", \"2015-10-13T00:00:00\", \"2015-10-20T00:00:00\", \"2015-10-27T00:00:00\", \"2015-11-03T00:00:00\", \"2015-11-10T00:00:00\", \"2015-11-17T00:00:00\", \"2015-11-24T00:00:00\", \"2015-12-01T00:00:00\", \"2015-12-08T00:00:00\", \"2015-12-15T00:00:00\", \"2015-12-22T00:00:00\", \"2015-12-29T00:00:00\", \"2016-01-05T00:00:00\", \"2016-01-12T00:00:00\", \"2016-01-19T00:00:00\", \"2016-01-26T00:00:00\", \"2016-02-02T00:00:00\", \"2016-02-09T00:00:00\", \"2016-02-16T00:00:00\", \"2016-02-23T00:00:00\", \"2016-03-01T00:00:00\", \"2016-03-08T00:00:00\", \"2016-03-15T00:00:00\", \"2016-03-22T00:00:00\", \"2016-03-29T00:00:00\", \"2016-04-05T00:00:00\", \"2016-04-12T00:00:00\", \"2016-04-19T00:00:00\", \"2016-04-26T00:00:00\", \"2016-05-03T00:00:00\", \"2016-05-10T00:00:00\", \"2016-05-17T00:00:00\", \"2016-05-24T00:00:00\", \"2016-05-31T00:00:00\", \"2016-06-07T00:00:00\", \"2016-06-14T00:00:00\", \"2016-06-21T00:00:00\", \"2016-06-28T00:00:00\", \"2016-07-05T00:00:00\", \"2016-07-12T00:00:00\", \"2016-07-19T00:00:00\", \"2016-07-26T00:00:00\", \"2016-08-02T00:00:00\", \"2016-08-09T00:00:00\", \"2016-08-16T00:00:00\", \"2016-08-23T00:00:00\", \"2016-08-30T00:00:00\", \"2016-09-06T00:00:00\", \"2016-09-13T00:00:00\", \"2016-09-20T00:00:00\", \"2016-09-27T00:00:00\", \"2016-10-04T00:00:00\", \"2016-10-11T00:00:00\", \"2016-10-18T00:00:00\", \"2016-10-25T00:00:00\", \"2016-11-01T00:00:00\", \"2016-11-08T00:00:00\", \"2016-11-15T00:00:00\", \"2016-11-22T00:00:00\", \"2016-11-29T00:00:00\", \"2016-12-06T00:00:00\", \"2016-12-13T00:00:00\", \"2016-12-20T00:00:00\", \"2016-12-27T00:00:00\", \"2017-01-03T00:00:00\", \"2017-01-10T00:00:00\", \"2017-01-17T00:00:00\", \"2017-01-24T00:00:00\", \"2017-01-31T00:00:00\", \"2017-02-07T00:00:00\", \"2017-02-14T00:00:00\", \"2017-02-21T00:00:00\", \"2017-02-28T00:00:00\", \"2017-03-07T00:00:00\", \"2017-03-14T00:00:00\", \"2017-03-21T00:00:00\", \"2017-03-28T00:00:00\", \"2017-04-04T00:00:00\", \"2017-04-11T00:00:00\", \"2017-04-18T00:00:00\", \"2017-04-25T00:00:00\", \"2017-05-02T00:00:00\", \"2017-05-09T00:00:00\", \"2017-05-16T00:00:00\", \"2017-05-23T00:00:00\", \"2017-05-30T00:00:00\", \"2017-06-06T00:00:00\", \"2017-06-13T00:00:00\", \"2017-06-20T00:00:00\", \"2017-06-27T00:00:00\", \"2017-07-03T00:00:00\", \"2017-07-11T00:00:00\", \"2017-07-18T00:00:00\", \"2017-07-25T00:00:00\", \"2017-08-01T00:00:00\", \"2017-08-08T00:00:00\", \"2017-08-15T00:00:00\", \"2017-08-22T00:00:00\", \"2017-08-29T00:00:00\", \"2017-09-05T00:00:00\", \"2017-09-12T00:00:00\", \"2017-09-19T00:00:00\", \"2017-09-26T00:00:00\", \"2017-10-03T00:00:00\", \"2017-10-10T00:00:00\", \"2017-10-17T00:00:00\", \"2017-10-24T00:00:00\", \"2017-10-31T00:00:00\", \"2017-11-07T00:00:00\", \"2017-11-14T00:00:00\", \"2017-11-21T00:00:00\", \"2017-11-28T00:00:00\", \"2017-12-05T00:00:00\", \"2017-12-12T00:00:00\", \"2017-12-19T00:00:00\", \"2017-12-26T00:00:00\", \"2018-01-02T00:00:00\", \"2018-01-09T00:00:00\", \"2018-01-16T00:00:00\", \"2018-01-23T00:00:00\", \"2018-01-30T00:00:00\", \"2018-02-06T00:00:00\", \"2018-02-13T00:00:00\", \"2018-02-20T00:00:00\", \"2018-02-27T00:00:00\", \"2018-03-06T00:00:00\", \"2018-03-13T00:00:00\", \"2018-03-20T00:00:00\", \"2018-03-27T00:00:00\", \"2018-04-03T00:00:00\", \"2018-04-10T00:00:00\", \"2018-04-17T00:00:00\", \"2018-04-24T00:00:00\", \"2018-05-01T00:00:00\", \"2018-05-08T00:00:00\", \"2018-05-15T00:00:00\", \"2018-05-22T00:00:00\", \"2018-05-29T00:00:00\", \"2018-06-05T00:00:00\", \"2018-06-12T00:00:00\", \"2018-06-19T00:00:00\", \"2018-06-26T00:00:00\", \"2018-07-03T00:00:00\", \"2018-07-10T00:00:00\", \"2018-07-17T00:00:00\", \"2018-07-24T00:00:00\", \"2018-07-31T00:00:00\", \"2018-08-07T00:00:00\", \"2018-08-14T00:00:00\", \"2018-08-21T00:00:00\", \"2018-08-28T00:00:00\", \"2018-09-04T00:00:00\", \"2018-09-11T00:00:00\", \"2018-09-18T00:00:00\", \"2018-09-25T00:00:00\", \"2018-10-02T00:00:00\", \"2018-10-09T00:00:00\", \"2018-10-16T00:00:00\", \"2018-10-23T00:00:00\", \"2018-10-30T00:00:00\", \"2018-11-06T00:00:00\", \"2018-11-13T00:00:00\", \"2018-11-20T00:00:00\", \"2018-11-27T00:00:00\", \"2018-12-04T00:00:00\", \"2018-12-11T00:00:00\", \"2018-12-18T00:00:00\", \"2018-12-24T00:00:00\", \"2018-12-31T00:00:00\", \"2019-01-08T00:00:00\", \"2019-01-15T00:00:00\", \"2019-01-22T00:00:00\", \"2019-01-29T00:00:00\", \"2019-02-05T00:00:00\", \"2019-02-12T00:00:00\", \"2019-02-19T00:00:00\", \"2019-02-26T00:00:00\", \"2019-03-05T00:00:00\", \"2019-03-12T00:00:00\", \"2019-03-19T00:00:00\", \"2019-03-26T00:00:00\", \"2019-04-02T00:00:00\", \"2019-04-09T00:00:00\", \"2019-04-16T00:00:00\", \"2019-04-23T00:00:00\", \"2019-04-30T00:00:00\", \"2019-05-07T00:00:00\", \"2019-05-14T00:00:00\", \"2019-05-21T00:00:00\", \"2019-05-28T00:00:00\", \"2019-06-04T00:00:00\", \"2019-06-11T00:00:00\", \"2019-06-18T00:00:00\", \"2019-06-25T00:00:00\", \"2019-07-02T00:00:00\", \"2019-07-09T00:00:00\", \"2019-07-16T00:00:00\", \"2019-07-23T00:00:00\", \"2019-07-30T00:00:00\", \"2019-08-06T00:00:00\", \"2019-08-13T00:00:00\", \"2019-08-20T00:00:00\", \"2019-08-27T00:00:00\", \"2019-09-03T00:00:00\", \"2019-09-10T00:00:00\", \"2019-09-17T00:00:00\", \"2019-09-24T00:00:00\", \"2019-10-01T00:00:00\", \"2019-10-08T00:00:00\", \"2019-10-15T00:00:00\", \"2019-10-22T00:00:00\", \"2019-10-29T00:00:00\", \"2019-11-05T00:00:00\", \"2019-11-12T00:00:00\", \"2019-11-19T00:00:00\", \"2019-11-26T00:00:00\", \"2019-12-03T00:00:00\", \"2019-12-10T00:00:00\", \"2019-12-17T00:00:00\", \"2019-12-24T00:00:00\", \"2019-12-31T00:00:00\", \"2020-01-07T00:00:00\", \"2020-01-14T00:00:00\", \"2020-01-21T00:00:00\", \"2020-01-28T00:00:00\", \"2020-02-04T00:00:00\", \"2020-02-11T00:00:00\", \"2020-02-18T00:00:00\", \"2020-02-25T00:00:00\", \"2020-03-03T00:00:00\", \"2020-03-10T00:00:00\", \"2020-03-17T00:00:00\", \"2020-03-24T00:00:00\", \"2020-03-31T00:00:00\", \"2020-04-07T00:00:00\", \"2020-04-14T00:00:00\", \"2020-04-21T00:00:00\", \"2020-04-28T00:00:00\", \"2020-05-05T00:00:00\", \"2020-05-12T00:00:00\", \"2020-05-19T00:00:00\", \"2020-05-26T00:00:00\", \"2020-06-02T00:00:00\", \"2020-06-09T00:00:00\", \"2020-06-16T00:00:00\", \"2020-06-23T00:00:00\", \"2020-06-30T00:00:00\", \"2020-07-07T00:00:00\", \"2020-07-14T00:00:00\", \"2020-07-21T00:00:00\", \"2020-07-28T00:00:00\", \"2020-08-04T00:00:00\", \"2020-08-11T00:00:00\", \"2020-08-18T00:00:00\", \"2020-08-25T00:00:00\", \"2020-09-01T00:00:00\", \"2020-09-08T00:00:00\", \"2020-09-15T00:00:00\", \"2020-09-22T00:00:00\", \"2020-09-29T00:00:00\"], \"y\": [131121, 131155, 148671, 153115, 161412, 174861, 175704, 180506, 178057, 185039, 135144, 150320, 157688, 151072, 130501, 118074, 138497, 146418, 135526, 127349, 129030, 152809, 179026, 133660, 111876, 111471, 140418, 153639, 189662, 196328, 191087, 173781, 171467, 196090, 191019, 188237, 130555, 126544, 142517, 119424, 116418, 119955, 136629, 148844, 158543, 181499, 189063, 186826, 199890, 144451, 137854, 139756, 143374, 148683, 171971, 167763, 166295, 155692, 161403, 145631, 141104, 139105, 97456, 105395, 109067, 113872, 153572, 126511, 117178, 116533, 128911, 134805, 138084, 143577, 142333, 110890, 111143, 109440, 103117, 97361, 103432, 119753, 128186, 127632, 120749, 113732, 114101, 162430, 168729, 153278, 160243, 157510, 135977, 129729, 139555, 157048, 148866, 153771, 154976, 155401, 151640, 155718, 139166, 143192, 151563, 174390, 177433, 191470, 184327, 189464, 190028, 193415, 194858, 209454, 169900, 176764, 191438, 199099, 205663, 195575, 177359, 177326, 179886, 183857, 211110, 206058, 207116, 233490, 217481, 212815, 210730, 213241, 209717, 212346, 214358, 218908, 237589, 243849, 246509, 240705, 258092, 218381, 219926, 204344, 188075, 188907, 180527, 177306, 177429, 177739, 179530, 171485, 179296, 211478, 181925, 184543, 193802, 184250, 172511, 178983, 188829, 201316, 196517, 196447, 189222, 192062, 196223, 182537, 199947, 209945, 223499, 228823, 232193, 216905, 199756, 183354, 184285, 181671, 202098, 214278, 156503, 150501, 145233, 141886, 155008, 177515, 189767, 198476, 207354, 213196, 217019, 220430, 245043, 200192, 204650, 217218, 208594, 215138, 206270, 192330, 184085, 186246, 186030, 189912, 191512, 184120, 122610, 137078, 151235, 160493, 190187, 206199, 214141, 222193, 223535, 233792, 236584, 246641, 273064, 235008, 239526, 227327, 234676, 244360, 252304, 258551, 263669, 265513, 271550, 274999, 242090, 222003, 202744, 216206, 236052, 244234, 225725, 221368, 221211, 222394, 212499, 197525, 189136, 187869, 196951, 187938, 199268, 215614, 218266, 233100, 254385, 280627, 299034, 298167, 294412, 292397, 290980, 304848, 288786, 274987, 277946, 283332, 294039, 299980, 305928, 308894, 302445, 301797, 276267, 233892, 224550, 121964, 110323, 102712, 102137, 109371, 105480, 103359, 100220, 101098, 103425, 128952, 122614, 135937, 109329, 113290, 122007, 122938, 124807, 128136, 133914, 128492, 130908, 134542, 134794, 132731, 150387, 134482, 136718, 121918]}],                        {\"paper_bgcolor\": \"white\", \"plot_bgcolor\": \"white\", \"template\": {\"data\": {\"bar\": [{\"error_x\": {\"color\": \"#2a3f5f\"}, \"error_y\": {\"color\": \"#2a3f5f\"}, \"marker\": {\"line\": {\"color\": \"#E5ECF6\", \"width\": 0.5}}, \"type\": \"bar\"}], \"barpolar\": [{\"marker\": {\"line\": {\"color\": \"#E5ECF6\", \"width\": 0.5}}, \"type\": \"barpolar\"}], \"carpet\": [{\"aaxis\": {\"endlinecolor\": \"#2a3f5f\", \"gridcolor\": \"white\", \"linecolor\": \"white\", \"minorgridcolor\": \"white\", \"startlinecolor\": \"#2a3f5f\"}, \"baxis\": {\"endlinecolor\": \"#2a3f5f\", \"gridcolor\": \"white\", \"linecolor\": \"white\", \"minorgridcolor\": \"white\", \"startlinecolor\": \"#2a3f5f\"}, \"type\": \"carpet\"}], \"choropleth\": [{\"colorbar\": {\"outlinewidth\": 0, \"ticks\": \"\"}, \"type\": \"choropleth\"}], \"contour\": [{\"colorbar\": {\"outlinewidth\": 0, \"ticks\": \"\"}, \"colorscale\": [[0.0, \"#0d0887\"], [0.1111111111111111, \"#46039f\"], [0.2222222222222222, \"#7201a8\"], [0.3333333333333333, \"#9c179e\"], [0.4444444444444444, \"#bd3786\"], [0.5555555555555556, \"#d8576b\"], [0.6666666666666666, \"#ed7953\"], [0.7777777777777778, \"#fb9f3a\"], [0.8888888888888888, \"#fdca26\"], [1.0, \"#f0f921\"]], \"type\": \"contour\"}], \"contourcarpet\": [{\"colorbar\": {\"outlinewidth\": 0, \"ticks\": \"\"}, \"type\": \"contourcarpet\"}], \"heatmap\": [{\"colorbar\": {\"outlinewidth\": 0, \"ticks\": \"\"}, \"colorscale\": [[0.0, \"#0d0887\"], [0.1111111111111111, \"#46039f\"], [0.2222222222222222, \"#7201a8\"], [0.3333333333333333, \"#9c179e\"], [0.4444444444444444, \"#bd3786\"], [0.5555555555555556, \"#d8576b\"], [0.6666666666666666, \"#ed7953\"], [0.7777777777777778, \"#fb9f3a\"], [0.8888888888888888, \"#fdca26\"], [1.0, \"#f0f921\"]], \"type\": \"heatmap\"}], \"heatmapgl\": [{\"colorbar\": {\"outlinewidth\": 0, \"ticks\": \"\"}, \"colorscale\": [[0.0, \"#0d0887\"], [0.1111111111111111, \"#46039f\"], [0.2222222222222222, \"#7201a8\"], [0.3333333333333333, \"#9c179e\"], [0.4444444444444444, \"#bd3786\"], [0.5555555555555556, \"#d8576b\"], [0.6666666666666666, \"#ed7953\"], [0.7777777777777778, \"#fb9f3a\"], [0.8888888888888888, \"#fdca26\"], [1.0, \"#f0f921\"]], \"type\": \"heatmapgl\"}], \"histogram\": [{\"marker\": {\"colorbar\": {\"outlinewidth\": 0, \"ticks\": \"\"}}, \"type\": \"histogram\"}], \"histogram2d\": [{\"colorbar\": {\"outlinewidth\": 0, \"ticks\": \"\"}, \"colorscale\": [[0.0, \"#0d0887\"], [0.1111111111111111, \"#46039f\"], [0.2222222222222222, \"#7201a8\"], [0.3333333333333333, \"#9c179e\"], [0.4444444444444444, \"#bd3786\"], [0.5555555555555556, \"#d8576b\"], [0.6666666666666666, \"#ed7953\"], [0.7777777777777778, \"#fb9f3a\"], [0.8888888888888888, \"#fdca26\"], [1.0, \"#f0f921\"]], \"type\": \"histogram2d\"}], \"histogram2dcontour\": [{\"colorbar\": {\"outlinewidth\": 0, \"ticks\": \"\"}, \"colorscale\": [[0.0, \"#0d0887\"], [0.1111111111111111, \"#46039f\"], [0.2222222222222222, \"#7201a8\"], [0.3333333333333333, \"#9c179e\"], [0.4444444444444444, \"#bd3786\"], [0.5555555555555556, \"#d8576b\"], [0.6666666666666666, \"#ed7953\"], [0.7777777777777778, \"#fb9f3a\"], [0.8888888888888888, \"#fdca26\"], [1.0, \"#f0f921\"]], \"type\": \"histogram2dcontour\"}], \"mesh3d\": [{\"colorbar\": {\"outlinewidth\": 0, \"ticks\": \"\"}, \"type\": \"mesh3d\"}], \"parcoords\": [{\"line\": {\"colorbar\": {\"outlinewidth\": 0, \"ticks\": \"\"}}, \"type\": \"parcoords\"}], \"pie\": [{\"automargin\": true, \"type\": \"pie\"}], \"scatter\": [{\"marker\": {\"colorbar\": {\"outlinewidth\": 0, \"ticks\": \"\"}}, \"type\": \"scatter\"}], \"scatter3d\": [{\"line\": {\"colorbar\": {\"outlinewidth\": 0, \"ticks\": \"\"}}, \"marker\": {\"colorbar\": {\"outlinewidth\": 0, \"ticks\": \"\"}}, \"type\": \"scatter3d\"}], \"scattercarpet\": [{\"marker\": {\"colorbar\": {\"outlinewidth\": 0, \"ticks\": \"\"}}, \"type\": \"scattercarpet\"}], \"scattergeo\": [{\"marker\": {\"colorbar\": {\"outlinewidth\": 0, \"ticks\": \"\"}}, \"type\": \"scattergeo\"}], \"scattergl\": [{\"marker\": {\"colorbar\": {\"outlinewidth\": 0, \"ticks\": \"\"}}, \"type\": \"scattergl\"}], \"scattermapbox\": [{\"marker\": {\"colorbar\": {\"outlinewidth\": 0, \"ticks\": \"\"}}, \"type\": \"scattermapbox\"}], \"scatterpolar\": [{\"marker\": {\"colorbar\": {\"outlinewidth\": 0, \"ticks\": \"\"}}, \"type\": \"scatterpolar\"}], \"scatterpolargl\": [{\"marker\": {\"colorbar\": {\"outlinewidth\": 0, \"ticks\": \"\"}}, \"type\": \"scatterpolargl\"}], \"scatterternary\": [{\"marker\": {\"colorbar\": {\"outlinewidth\": 0, \"ticks\": \"\"}}, \"type\": \"scatterternary\"}], \"surface\": [{\"colorbar\": {\"outlinewidth\": 0, \"ticks\": \"\"}, \"colorscale\": [[0.0, \"#0d0887\"], [0.1111111111111111, \"#46039f\"], [0.2222222222222222, \"#7201a8\"], [0.3333333333333333, \"#9c179e\"], [0.4444444444444444, \"#bd3786\"], [0.5555555555555556, \"#d8576b\"], [0.6666666666666666, \"#ed7953\"], [0.7777777777777778, \"#fb9f3a\"], [0.8888888888888888, \"#fdca26\"], [1.0, \"#f0f921\"]], \"type\": \"surface\"}], \"table\": [{\"cells\": {\"fill\": {\"color\": \"#EBF0F8\"}, \"line\": {\"color\": \"white\"}}, \"header\": {\"fill\": {\"color\": \"#C8D4E3\"}, \"line\": {\"color\": \"white\"}}, \"type\": \"table\"}]}, \"layout\": {\"annotationdefaults\": {\"arrowcolor\": \"#2a3f5f\", \"arrowhead\": 0, \"arrowwidth\": 1}, \"coloraxis\": {\"colorbar\": {\"outlinewidth\": 0, \"ticks\": \"\"}}, \"colorscale\": {\"diverging\": [[0, \"#8e0152\"], [0.1, \"#c51b7d\"], [0.2, \"#de77ae\"], [0.3, \"#f1b6da\"], [0.4, \"#fde0ef\"], [0.5, \"#f7f7f7\"], [0.6, \"#e6f5d0\"], [0.7, \"#b8e186\"], [0.8, \"#7fbc41\"], [0.9, \"#4d9221\"], [1, \"#276419\"]], \"sequential\": [[0.0, \"#0d0887\"], [0.1111111111111111, \"#46039f\"], [0.2222222222222222, \"#7201a8\"], [0.3333333333333333, \"#9c179e\"], [0.4444444444444444, \"#bd3786\"], [0.5555555555555556, \"#d8576b\"], [0.6666666666666666, \"#ed7953\"], [0.7777777777777778, \"#fb9f3a\"], [0.8888888888888888, \"#fdca26\"], [1.0, \"#f0f921\"]], \"sequentialminus\": [[0.0, \"#0d0887\"], [0.1111111111111111, \"#46039f\"], [0.2222222222222222, \"#7201a8\"], [0.3333333333333333, \"#9c179e\"], [0.4444444444444444, \"#bd3786\"], [0.5555555555555556, \"#d8576b\"], [0.6666666666666666, \"#ed7953\"], [0.7777777777777778, \"#fb9f3a\"], [0.8888888888888888, \"#fdca26\"], [1.0, \"#f0f921\"]]}, \"colorway\": [\"#636efa\", \"#EF553B\", \"#00cc96\", \"#ab63fa\", \"#FFA15A\", \"#19d3f3\", \"#FF6692\", \"#B6E880\", \"#FF97FF\", \"#FECB52\"], \"font\": {\"color\": \"#2a3f5f\"}, \"geo\": {\"bgcolor\": \"white\", \"lakecolor\": \"white\", \"landcolor\": \"#E5ECF6\", \"showlakes\": true, \"showland\": true, \"subunitcolor\": \"white\"}, \"hoverlabel\": {\"align\": \"left\"}, \"hovermode\": \"closest\", \"mapbox\": {\"style\": \"light\"}, \"paper_bgcolor\": \"white\", \"plot_bgcolor\": \"#E5ECF6\", \"polar\": {\"angularaxis\": {\"gridcolor\": \"white\", \"linecolor\": \"white\", \"ticks\": \"\"}, \"bgcolor\": \"#E5ECF6\", \"radialaxis\": {\"gridcolor\": \"white\", \"linecolor\": \"white\", \"ticks\": \"\"}}, \"scene\": {\"xaxis\": {\"backgroundcolor\": \"#E5ECF6\", \"gridcolor\": \"white\", \"gridwidth\": 2, \"linecolor\": \"white\", \"showbackground\": true, \"ticks\": \"\", \"zerolinecolor\": \"white\"}, \"yaxis\": {\"backgroundcolor\": \"#E5ECF6\", \"gridcolor\": \"white\", \"gridwidth\": 2, \"linecolor\": \"white\", \"showbackground\": true, \"ticks\": \"\", \"zerolinecolor\": \"white\"}, \"zaxis\": {\"backgroundcolor\": \"#E5ECF6\", \"gridcolor\": \"white\", \"gridwidth\": 2, \"linecolor\": \"white\", \"showbackground\": true, \"ticks\": \"\", \"zerolinecolor\": \"white\"}}, \"shapedefaults\": {\"line\": {\"color\": \"#2a3f5f\"}}, \"ternary\": {\"aaxis\": {\"gridcolor\": \"white\", \"linecolor\": \"white\", \"ticks\": \"\"}, \"baxis\": {\"gridcolor\": \"white\", \"linecolor\": \"white\", \"ticks\": \"\"}, \"bgcolor\": \"#E5ECF6\", \"caxis\": {\"gridcolor\": \"white\", \"linecolor\": \"white\", \"ticks\": \"\"}}, \"title\": {\"x\": 0.05}, \"xaxis\": {\"automargin\": true, \"gridcolor\": \"white\", \"linecolor\": \"white\", \"ticks\": \"\", \"title\": {\"standoff\": 15}, \"zerolinecolor\": \"white\", \"zerolinewidth\": 2}, \"yaxis\": {\"automargin\": true, \"gridcolor\": \"white\", \"linecolor\": \"white\", \"ticks\": \"\", \"title\": {\"standoff\": 15}, \"zerolinecolor\": \"white\", \"zerolinewidth\": 2}}}, \"title\": {\"text\": \"Inter\\u00e9s Abierto Total en USD/MXN\"}},                        {\"responsive\": true}                    ).then(function(){\n",
       "                            \n",
       "var gd = document.getElementById('71c8e2f6-8c84-405a-8fc5-157654c3c244');\n",
       "var x = new MutationObserver(function (mutations, observer) {{\n",
       "        var display = window.getComputedStyle(gd).display;\n",
       "        if (!display || display === 'none') {{\n",
       "            console.log([gd, 'removed!']);\n",
       "            Plotly.purge(gd);\n",
       "            observer.disconnect();\n",
       "        }}\n",
       "}});\n",
       "\n",
       "// Listen for the removal of the full notebook cells\n",
       "var notebookContainer = gd.closest('#notebook-container');\n",
       "if (notebookContainer) {{\n",
       "    x.observe(notebookContainer, {childList: true});\n",
       "}}\n",
       "\n",
       "// Listen for the clearing of the current output cell\n",
       "var outputEl = gd.closest('.output');\n",
       "if (outputEl) {{\n",
       "    x.observe(outputEl, {childList: true});\n",
       "}}\n",
       "\n",
       "                        })                };                });            </script>        </div>"
      ]
     },
     "metadata": {},
     "output_type": "display_data"
    }
   ],
   "source": [
    "##VAMOS A VER LOS DATOS GRAFICADOS\n",
    "open_interest = OpenInterest('MEXICAN PESO - CHICAGO MERCANTILE EXCHANGE', 2020, 2015, 2020)\n",
    "xpoints, ypoints = open_interest.index, open_interest.Open_Interest_All\n",
    "data = [go.Scatter(x = xpoints, y = ypoints)]\n",
    "layout = go.Layout(title=\"Interés Abierto Total en USD/MXN\",paper_bgcolor='white', plot_bgcolor='white')\n",
    "plotly.offline.iplot({ \"data\": data,\"layout\": layout})"
   ]
  },
  {
   "cell_type": "markdown",
   "metadata": {},
   "source": [
    "### 1) POSICION DEL INTERMEDIARIO (DEALER)"
   ]
  },
  {
   "cell_type": "code",
   "execution_count": null,
   "metadata": {},
   "outputs": [],
   "source": [
    "##VAMOS A VER LOS DATOS GRAFICADOS\n",
    "pos_dealer = DealerPosition('MEXICAN PESO - CHICAGO MERCANTILE EXCHANGE', 2020, 2015, 2020)\n",
    "\n",
    "xpoints, ypoints = pos_dealer.index, pos_dealer['Dealer_Positions_Long_All']\n",
    "trace0 = go.Scatter(x = xpoints, y = ypoints, name=\"Pos. Compra - Inter.\")\n",
    "xpoints, ypoints = pos_dealer.index, pos_dealer['Dealer_Positions_Short_All']\n",
    "trace1 = go.Scatter(x = xpoints, y = ypoints, name=\"Pos. Venta - Inter.\")\n",
    "xpoints, ypoints = pos_dealer.index, pos_dealer['Dealer_Positions_Spread_All']\n",
    "trace2 = go.Scatter(x = xpoints, y = ypoints, name=\"Pos. Spread - Inter.\")\n",
    "data = [trace0, trace1, trace2]\n",
    "layout = go.Layout(title=\"Posiciones de Intermediarios Fin. en USD/MXN\", paper_bgcolor='white', plot_bgcolor='white')\n",
    "plotly.offline.iplot({ \"data\": data,\"layout\": layout})\n"
   ]
  },
  {
   "cell_type": "markdown",
   "metadata": {},
   "source": [
    "### 2) Gestores Institucionales de Activos (Asset Manager/Institutional)"
   ]
  },
  {
   "cell_type": "code",
   "execution_count": null,
   "metadata": {},
   "outputs": [],
   "source": [
    "##VAMOS A VER LOS DATOS GRAFICADOS\n",
    "pos_manager = ManagerPosition('MEXICAN PESO - CHICAGO MERCANTILE EXCHANGE', 2020, 2015, 2020)\n",
    "xpoints, ypoints = pos_manager.index, pos_manager['Asset_Mgr_Positions_Long_All']\n",
    "trace0 = go.Scatter(x = xpoints, y = ypoints, name=\"Pos. Compra - Gestores.\")\n",
    "xpoints, ypoints = pos_manager.index, pos_manager['Asset_Mgr_Positions_Short_All']\n",
    "trace1 = go.Scatter(x = xpoints, y = ypoints, name=\"Pos. Venta - Gestores.\")\n",
    "xpoints, ypoints = pos_manager.index, pos_manager['Asset_Mgr_Positions_Spread_All']\n",
    "trace2 = go.Scatter(x = xpoints, y = ypoints, name=\"Pos. Spread - Gestores.\")\n",
    "data = [trace0, trace1, trace2]\n",
    "layout = go.Layout(title=\"Posiciones de Gestores Institucionales en USD/MXN\",paper_bgcolor='white',plot_bgcolor='white')\n",
    "plotly.offline.iplot({ \"data\": data,\"layout\": layout})"
   ]
  },
  {
   "cell_type": "markdown",
   "metadata": {},
   "source": [
    "### 3) Fondos Apalancados (Leveraged Funds)"
   ]
  },
  {
   "cell_type": "code",
   "execution_count": null,
   "metadata": {},
   "outputs": [],
   "source": [
    "##VAMOS A VER LOS DATOS GRAFICADOS\n",
    "pos_funds = LevFundsPosition('MEXICAN PESO - CHICAGO MERCANTILE EXCHANGE', 2020, 2015, 2020)\n",
    "xpoints, ypoints = pos_funds.index, pos_funds['Lev_Money_Positions_Long_All']\n",
    "trace0 = go.Scatter(x = xpoints, y = ypoints, name=\"Pos. Compra - Fondos.\")\n",
    "xpoints, ypoints = pos_funds.index, pos_funds['Lev_Money_Positions_Short_All']\n",
    "trace1 = go.Scatter(x = xpoints, y = ypoints, name=\"Pos. Venta - Fondos.\")\n",
    "xpoints, ypoints = pos_funds.index, pos_funds['Lev_Money_Positions_Spread_All']\n",
    "trace2 = go.Scatter(x = xpoints, y = ypoints, name=\"Pos. Spread - Fondos.\")\n",
    "data = [trace0, trace1, trace2]\n",
    "layout = go.Layout(title=\"Posiciones de Fondos Apalancados en USD/MXN\",paper_bgcolor='white',plot_bgcolor='white')\n",
    "plotly.offline.iplot({ \"data\": data,\"layout\": layout})"
   ]
  },
  {
   "cell_type": "markdown",
   "metadata": {},
   "source": [
    "### 4) Otros Reportables (Other Reportable) / Comerciales"
   ]
  },
  {
   "cell_type": "code",
   "execution_count": null,
   "metadata": {},
   "outputs": [],
   "source": [
    "##VAMOS A VER LOS DATOS GRAFICADOS\n",
    "pos_commercial = OtherRepPosition('MEXICAN PESO - CHICAGO MERCANTILE EXCHANGE', 2020, 2015, 2020)\n",
    "xpoints, ypoints = pos_commercial.index, pos_commercial['Other_Rept_Positions_Long_All']\n",
    "trace0 = go.Scatter(x = xpoints, y = ypoints, name=\"Pos. Compra - Comerciales.\")\n",
    "xpoints, ypoints = pos_commercial.index, pos_commercial['Other_Rept_Positions_Short_All']\n",
    "trace1 = go.Scatter(x = xpoints, y = ypoints, name=\"Pos. Venta - Comerciales.\")\n",
    "xpoints, ypoints = pos_commercial.index, pos_commercial['Other_Rept_Positions_Spread_All']\n",
    "trace2 = go.Scatter(x = xpoints, y = ypoints, name=\"Pos. Spread - Comerciales.\")\n",
    "data = [trace0, trace1, trace2]\n",
    "layout= go.Layout(title=\"Posiciones de Comerciales en USD/MXN\",paper_bgcolor='white',plot_bgcolor='white')\n",
    "plotly.offline.iplot({ \"data\": data,\"layout\": layout})"
   ]
  },
  {
   "cell_type": "code",
   "execution_count": null,
   "metadata": {},
   "outputs": [],
   "source": []
  }
 ],
 "metadata": {
  "kernelspec": {
   "display_name": "Python 3",
   "language": "python",
   "name": "python3"
  },
  "language_info": {
   "codemirror_mode": {
    "name": "ipython",
    "version": 3
   },
   "file_extension": ".py",
   "mimetype": "text/x-python",
   "name": "python",
   "nbconvert_exporter": "python",
   "pygments_lexer": "ipython3",
   "version": "3.8.3"
  }
 },
 "nbformat": 4,
 "nbformat_minor": 4
}
